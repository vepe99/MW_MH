{
 "cells": [
  {
   "cell_type": "code",
   "execution_count": 1,
   "id": "7fa98e5d-d4a5-40fe-a75f-7728e39c67f4",
   "metadata": {
    "tags": []
   },
   "outputs": [],
   "source": [
    "import numpy as np\n",
    "import pandas as pd\n",
    "import pynbody as pb\n",
    "import matplotlib.pyplot as plt\n",
    "import matplotlib.gridspec as gridspec"
   ]
  },
  {
   "cell_type": "code",
   "execution_count": 2,
   "id": "1fcd7086-a113-40e9-89ac-31ca66242f19",
   "metadata": {
    "tags": []
   },
   "outputs": [],
   "source": [
    "#Load simulation \n",
    "s = pb.load('./data/g7.55e11/snap_1024/output/7.55e11.01024')\n",
    "s.physical_units()\n",
    "h = s.halos()"
   ]
  },
  {
   "cell_type": "markdown",
   "id": "c08125be-24e0-4cfd-bd2c-bef0850cec3e",
   "metadata": {
    "tags": []
   },
   "source": [
    "# Plot "
   ]
  },
  {
   "cell_type": "code",
   "execution_count": null,
   "id": "21e8aa75-6a6d-4317-8774-2d22d5bb71aa",
   "metadata": {
    "tags": []
   },
   "outputs": [],
   "source": [
    "#Face on\n",
    "pb.analysis.angmom.faceon(h[1])\n",
    "pb.plot.image(h[1], width=100, cmap='magma');"
   ]
  },
  {
   "cell_type": "code",
   "execution_count": null,
   "id": "8fb82cd8-6583-44f7-aea2-02cd4db0332a",
   "metadata": {
    "tags": []
   },
   "outputs": [],
   "source": [
    "#Edge on\n",
    "pb.analysis.angmom.sideon(h[1])\n",
    "pb.plot.image(h[1].s, width=100, cmap='magma');"
   ]
  },
  {
   "cell_type": "code",
   "execution_count": null,
   "id": "a1ae8a71-c28b-4a6e-a286-cdd54fe64536",
   "metadata": {},
   "outputs": [],
   "source": []
  }
 ],
 "metadata": {
  "kernelspec": {
   "display_name": "Python (torch)",
   "language": "python",
   "name": "torch"
  },
  "language_info": {
   "codemirror_mode": {
    "name": "ipython",
    "version": 3
   },
   "file_extension": ".py",
   "mimetype": "text/x-python",
   "name": "python",
   "nbconvert_exporter": "python",
   "pygments_lexer": "ipython3",
   "version": "3.10.13"
  }
 },
 "nbformat": 4,
 "nbformat_minor": 5
}
