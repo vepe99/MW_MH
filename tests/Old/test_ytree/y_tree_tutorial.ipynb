{
 "cells": [
  {
   "cell_type": "code",
   "execution_count": 1,
   "id": "12feb29b-a7d6-42b1-bbba-50277a7a4be8",
   "metadata": {
    "tags": []
   },
   "outputs": [],
   "source": [
    "import numpy as np\n",
    "import matplotlib.pyplot as plt\n",
    "from PIL import Image\n",
    "from IPython.display import display\n",
    "\n",
    "import ytree\n",
    "import yt"
   ]
  },
  {
   "cell_type": "markdown",
   "id": "94a13b29-a8e7-4750-a87f-a213996122a8",
   "metadata": {},
   "source": [
    "# Loading the tree by loading the *.parameter file"
   ]
  },
  {
   "cell_type": "code",
   "execution_count": 2,
   "id": "9e22d023-a773-4170-b7fa-22e8d0d0cac7",
   "metadata": {
    "tags": []
   },
   "outputs": [
    {
     "name": "stdout",
     "output_type": "stream",
     "text": [
      "Additional features and improved performance (usually) by saving this arbor with \"save_arbor\" and reloading:\n",
      "\t>>> a = ytree.load(\"../data/y_tree_data/ahf_halos/snap_N64L16_000.parameter\")\n",
      "\t>>> fn = a.save_arbor()\n",
      "\t>>> a = ytree.load(fn)\n"
     ]
    }
   ],
   "source": [
    "a = ytree.load('../data/y_tree_data/ahf_halos/snap_N64L16_000.parameter',\n",
    "              hubble_constant=0.7)"
   ]
  },
  {
   "cell_type": "code",
   "execution_count": 3,
   "id": "6b4a8821-cfc8-4c7a-8e53-91534250a4af",
   "metadata": {
    "tags": []
   },
   "outputs": [
    {
     "name": "stderr",
     "output_type": "stream",
     "text": [
      "Planting trees: 100%|████████████████████████████████████████████████████████████████| 136/136 [00:00<00:00, 166.60it/s]\n",
      "Getting fields [1 / ~1]: 100%|█████████████████████████████████████████████████████| 1937/1937 [00:04<00:00, 471.53it/s]\n",
      "yt : [INFO     ] 2023-09-28 08:35:37,503 Saving field data to yt dataset: arbor/arbor_0000.h5.\n",
      "yt : [INFO     ] 2023-09-28 08:35:37,544 Saving field data to yt dataset: arbor/arbor.h5.\n"
     ]
    }
   ],
   "source": [
    "fn = a.save_arbor()\n",
    "a = ytree.load(fn)"
   ]
  },
  {
   "cell_type": "code",
   "execution_count": 4,
   "id": "7ccba23f-0637-4da4-82e9-3ef73b06898d",
   "metadata": {
    "tags": []
   },
   "outputs": [
    {
     "name": "stdout",
     "output_type": "stream",
     "text": [
      "box_size 16.0 Mpc/h \n",
      "Hubble consstant 0.7 \n",
      "Omega matter 0.3 \n",
      "Omega lambda 0.7\n"
     ]
    }
   ],
   "source": [
    "print('box_size', a.box_size, '\\n'\n",
    "     'Hubble consstant', a.hubble_constant, '\\n'\n",
    "     'Omega matter', a.omega_matter, '\\n'\n",
    "     'Omega lambda', a.omega_lambda)"
   ]
  },
  {
   "cell_type": "markdown",
   "id": "d51db8af-c5ab-4753-abd8-1842c94074e2",
   "metadata": {},
   "source": [
    "# Trees properties"
   ]
  },
  {
   "cell_type": "code",
   "execution_count": 5,
   "id": "cef6770c-a67f-4aba-be95-1f5e2df0f0ef",
   "metadata": {
    "tags": []
   },
   "outputs": [
    {
     "name": "stdout",
     "output_type": "stream",
     "text": [
      "number of trees: 1937 \n",
      "root fields (access like a dictionary): [3.30816e+13 2.87438e+13 1.44145e+13 ... 3.98067e+10 2.87493e+10\n",
      " 2.21149e+10] Msun/h \n",
      "units (using unty to set the units, important for comoving distance): [0.52208 0.49818 0.3958  ... 0.08606 0.08235 0.06848] Mpc/h\n"
     ]
    }
   ],
   "source": [
    "print('number of trees:', a.size, '\\n'\n",
    "     'root fields (access like a dictionary):', a['mass'], '\\n'\n",
    "     'units (using unty to set the units, important for comoving distance):', a['virial_radius'].to('Mpc/h'))"
   ]
  },
  {
   "cell_type": "markdown",
   "id": "7f932665-3f3a-468b-96b9-2b0127a79dc0",
   "metadata": {},
   "source": [
    "# Access to individual tree\n",
    " 1. A treenote is a halo in a merger tree. The number is the universal identifier, and the fields can be loaded in the same dictionary style.\n",
    " 2. Array slicing is also possible, but it will return a generator, called Arbor, that can be iterated over or cast to list\n",
    " 3. The Arbor (a[0] for example) dosen't store individual node, it onl generates them, you need to keep around TreeNode for object to persist, exepct when computin the number of nodes\n",
    " 4. Accessing th nodes in a Tree (or Forest, not supported in AHF): A Halo is defined as a single halo at a single time in a mergere tree. "
   ]
  },
  {
   "cell_type": "code",
   "execution_count": 6,
   "id": "b37e4d0a-9cbe-4ad8-9c60-5d5c3178b71b",
   "metadata": {
    "tags": []
   },
   "outputs": [
    {
     "name": "stdout",
     "output_type": "stream",
     "text": [
      "TreeNode[0]\n",
      "TreeNode[0] has mass 33081600000000.0 Msun/h\n"
     ]
    }
   ],
   "source": [
    "print(a[0])\n",
    "print(a[0], 'has mass', a[0]['mass'])"
   ]
  },
  {
   "cell_type": "code",
   "execution_count": 7,
   "id": "2209121c-35b4-492e-aa48-aa113a145cb0",
   "metadata": {
    "tags": []
   },
   "outputs": [
    {
     "name": "stdout",
     "output_type": "stream",
     "text": [
      "2.8662020413970003e+46 g/h\n"
     ]
    }
   ],
   "source": [
    "first_three_trees = list(a[:3])\n",
    "print(first_three_trees[2]['mass'].to('g/h'))"
   ]
  },
  {
   "cell_type": "code",
   "execution_count": 8,
   "id": "765c2daf-1bc0-45f5-b270-a9f8eb08840f",
   "metadata": {
    "tags": []
   },
   "outputs": [
    {
     "data": {
      "text/plain": [
       "<generator object Arbor._yield_root_nodes at 0x7f1f5cfea570>"
      ]
     },
     "execution_count": 8,
     "metadata": {},
     "output_type": "execute_result"
    }
   ],
   "source": [
    "first_three_trees = a[:3]\n",
    "first_three_trees"
   ]
  },
  {
   "cell_type": "markdown",
   "id": "c652dd9f-8130-4f99-a2ee-9c504487337d",
   "metadata": {
    "tags": []
   },
   "source": [
    "'''\n",
    "#not gonna work\n",
    "a[0].thing = 5\n",
    "print(a[0].thing)\n",
    "'''"
   ]
  },
  {
   "cell_type": "code",
   "execution_count": 10,
   "id": "26ecdb92-8616-432e-9bde-ba4a47ba3951",
   "metadata": {
    "tags": []
   },
   "outputs": [
    {
     "name": "stdout",
     "output_type": "stream",
     "text": [
      "5\n"
     ]
    }
   ],
   "source": [
    "#this will work\n",
    "my_tree = a[0] #need to generate it and store it \n",
    "my_tree.thing = 5\n",
    "print(my_tree.thing)"
   ]
  },
  {
   "cell_type": "code",
   "execution_count": 11,
   "id": "0593d8dd-0ab5-4f0c-9bed-ff0ff8dfb127",
   "metadata": {
    "tags": []
   },
   "outputs": [
    {
     "name": "stdout",
     "output_type": "stream",
     "text": [
      "460\n",
      "460\n"
     ]
    }
   ],
   "source": [
    "my_tree = a[0]\n",
    "print(my_tree.tree_size)\n",
    "\n",
    "new_tree = a[0] #retrive from cache\n",
    "print(new_tree.tree_size)"
   ]
  },
  {
   "cell_type": "code",
   "execution_count": 12,
   "id": "0ebe8b58-ee0e-4491-b4d5-4faf905e0aef",
   "metadata": {
    "tags": []
   },
   "outputs": [
    {
     "name": "stdout",
     "output_type": "stream",
     "text": [
      "<generator object TreeNode._tree_nodes at 0x7f1f57006030>\n",
      "TreeNode[0] 33081600000000.0 Msun/h\n",
      "TreeNode[361] 32916900000000.0 Msun/h\n",
      "TreeNode[725] 32626000000000.0 Msun/h\n",
      "TreeNode[1093] 31075800000000.0 Msun/h\n",
      "TreeNode[1467] 31069200000000.0 Msun/h\n",
      "TreeNode[1843] 30819300000000.0 Msun/h\n",
      "TreeNode[2229] 30278600000000.0 Msun/h\n",
      "TreeNode[2615] 29548800000000.0 Msun/h\n",
      "TreeNode[3002] 29050100000000.0 Msun/h\n",
      "TreeNode[3387] 28628800000000.0 Msun/h\n",
      "TreeNode[3775] 28186500000000.0 Msun/h\n",
      "TreeNode[4178] 27735300000000.0 Msun/h\n",
      "TreeNode[4578] 27609300000000.0 Msun/h\n",
      "TreeNode[4987] 26408500000000.0 Msun/h\n",
      "TreeNode[5392] 25987200000000.0 Msun/h\n",
      "TreeNode[5794] 24731000000000.0 Msun/h\n",
      "TreeNode[6208] 24307500000000.0 Msun/h\n",
      "TreeNode[6623] 23957000000000.0 Msun/h\n",
      "TreeNode[7041] 23614200000000.0 Msun/h\n",
      "TreeNode[7460] 23107800000000.0 Msun/h\n",
      "TreeNode[7878] 23033700000000.0 Msun/h\n",
      "TreeNode[8298] 22597000000000.0 Msun/h\n",
      "TreeNode[8724] 21636100000000.0 Msun/h\n",
      "TreeNode[9155] 21232500000000.0 Msun/h\n",
      "TreeNode[9590] 20053700000000.0 Msun/h\n",
      "TreeNode[10026] 19597100000000.0 Msun/h\n",
      "TreeNode[10461] 19412400000000.0 Msun/h\n",
      "TreeNode[10890] 19628000000000.0 Msun/h\n",
      "TreeNode[11320] 19970800000000.0 Msun/h\n",
      "TreeNode[11754] 20535900000000.0 Msun/h\n",
      "TreeNode[12192] 19284200000000.0 Msun/h\n",
      "TreeNode[12633] 20057100000000.0 Msun/h\n",
      "TreeNode[13074] 19354900000000.0 Msun/h\n",
      "TreeNode[13502] 19007700000000.0 Msun/h\n",
      "TreeNode[13940] 18113200000000.0 Msun/h\n",
      "TreeNode[14372] 16687900000000.0 Msun/h\n",
      "TreeNode[14804] 15166400000000.0 Msun/h\n",
      "TreeNode[15226] 9891970000000.0 Msun/h\n",
      "TreeNode[15650] 6984980000000.0 Msun/h\n",
      "TreeNode[16076] 5978750000000.0 Msun/h\n",
      "TreeNode[16504] 5767550000000.0 Msun/h\n",
      "TreeNode[16921] 5168240000000.0 Msun/h\n",
      "TreeNode[17342] 4729260000000.0 Msun/h\n",
      "TreeNode[17755] 3744040000000.0 Msun/h\n",
      "TreeNode[18165] 3682120000000.0 Msun/h\n",
      "TreeNode[18569] 3574870000000.0 Msun/h\n",
      "TreeNode[18975] 3481980000000.0 Msun/h\n",
      "TreeNode[19380] 3364770000000.0 Msun/h\n",
      "TreeNode[19776] 3268580000000.0 Msun/h\n",
      "TreeNode[20173] 3179010000000.0 Msun/h\n",
      "TreeNode[20559] 3085020000000.0 Msun/h\n",
      "TreeNode[20950] 2954540000000.0 Msun/h\n",
      "TreeNode[21338] 2848390000000.0 Msun/h\n",
      "TreeNode[21712] 2668160000000.0 Msun/h\n",
      "TreeNode[22090] 2048940000000.0 Msun/h\n",
      "TreeNode[22457] 2006920000000.0 Msun/h\n",
      "TreeNode[22816] 1960480000000.0 Msun/h\n",
      "TreeNode[23172] 1897450000000.0 Msun/h\n",
      "TreeNode[23524] 1836640000000.0 Msun/h\n",
      "TreeNode[23878] 1775820000000.0 Msun/h\n",
      "TreeNode[24218] 1727170000000.0 Msun/h\n",
      "TreeNode[24564] 1483910000000.0 Msun/h\n",
      "TreeNode[24895] 1857650000000.0 Msun/h\n",
      "TreeNode[25209] 1801250000000.0 Msun/h\n",
      "TreeNode[25522] 1726060000000.0 Msun/h\n",
      "TreeNode[25818] 1668570000000.0 Msun/h\n",
      "TreeNode[26108] 1637600000000.0 Msun/h\n",
      "TreeNode[26372] 1582320000000.0 Msun/h\n",
      "TreeNode[26627] 1514870000000.0 Msun/h\n",
      "TreeNode[26873] 1413140000000.0 Msun/h\n",
      "TreeNode[27090] 1371120000000.0 Msun/h\n",
      "TreeNode[27306] 1325790000000.0 Msun/h\n",
      "TreeNode[27504] 1272710000000.0 Msun/h\n",
      "TreeNode[27693] 1155500000000.0 Msun/h\n",
      "TreeNode[27863] 1121220000000.0 Msun/h\n",
      "TreeNode[28026] 1082520000000.0 Msun/h\n",
      "TreeNode[28173] 1039400000000.0 Msun/h\n",
      "TreeNode[28309] 1015070000000.0 Msun/h\n",
      "TreeNode[28436] 978582000000.0 Msun/h\n",
      "TreeNode[28557] 936564000000.0 Msun/h\n",
      "TreeNode[28668] 901180000000.0 Msun/h\n",
      "TreeNode[28773] 843682000000.0 Msun/h\n",
      "TreeNode[28868] 809404000000.0 Msun/h\n",
      "TreeNode[28951] 756328000000.0 Msun/h\n",
      "TreeNode[29026] 716521000000.0 Msun/h\n",
      "TreeNode[29094] 682243000000.0 Msun/h\n",
      "TreeNode[29157] 640225000000.0 Msun/h\n",
      "TreeNode[29209] 607053000000.0 Msun/h\n",
      "TreeNode[29253] 553977000000.0 Msun/h\n",
      "TreeNode[29294] 503113000000.0 Msun/h\n",
      "TreeNode[29331] 346097000000.0 Msun/h\n",
      "TreeNode[29366] 311819000000.0 Msun/h\n",
      "TreeNode[29398] 243263000000.0 Msun/h\n",
      "TreeNode[29426] 233312000000.0 Msun/h\n",
      "TreeNode[29452] 208985000000.0 Msun/h\n",
      "TreeNode[29475] 189082000000.0 Msun/h\n",
      "TreeNode[29498] 168073000000.0 Msun/h\n",
      "TreeNode[29516] 152592000000.0 Msun/h\n",
      "TreeNode[29534] 139324000000.0 Msun/h\n",
      "TreeNode[29549] 134901000000.0 Msun/h\n",
      "TreeNode[29563] 120526000000.0 Msun/h\n",
      "TreeNode[29575] 111680000000.0 Msun/h\n",
      "TreeNode[29588] 106151000000.0 Msun/h\n",
      "TreeNode[29599] 100623000000.0 Msun/h\n",
      "TreeNode[29611] 96199600000.0 Msun/h\n",
      "TreeNode[29625] 72979000000.0 Msun/h\n",
      "TreeNode[29635] 70767500000.0 Msun/h\n",
      "TreeNode[29643] 66344600000.0 Msun/h\n",
      "TreeNode[29650] 64133100000.0 Msun/h\n",
      "TreeNode[29659] 58604400000.0 Msun/h\n",
      "TreeNode[29666] 55287100000.0 Msun/h\n",
      "TreeNode[29670] 51969900000.0 Msun/h\n",
      "TreeNode[29676] 45335400000.0 Msun/h\n",
      "TreeNode[29681] 44229700000.0 Msun/h\n",
      "TreeNode[27609] 64133100000.0 Msun/h\n",
      "TreeNode[27793] 61921600000.0 Msun/h\n",
      "TreeNode[27957] 61921600000.0 Msun/h\n",
      "TreeNode[28119] 57498600000.0 Msun/h\n",
      "TreeNode[28268] 48652700000.0 Msun/h\n",
      "TreeNode[28413] 36489500000.0 Msun/h\n",
      "TreeNode[28539] 35383800000.0 Msun/h\n",
      "TreeNode[28662] 28749300000.0 Msun/h\n",
      "TreeNode[24434] 69661800000.0 Msun/h\n",
      "TreeNode[24795] 59710100000.0 Msun/h\n",
      "TreeNode[25115] 58604400000.0 Msun/h\n",
      "TreeNode[25442] 54181400000.0 Msun/h\n",
      "TreeNode[25750] 51969900000.0 Msun/h\n",
      "TreeNode[26039] 48652700000.0 Msun/h\n",
      "TreeNode[26321] 46441200000.0 Msun/h\n",
      "TreeNode[26592] 38701000000.0 Msun/h\n",
      "TreeNode[23741] 72979000000.0 Msun/h\n",
      "TreeNode[24094] 70767500000.0 Msun/h\n",
      "TreeNode[24433] 69661800000.0 Msun/h\n",
      "TreeNode[24771] 66344600000.0 Msun/h\n",
      "TreeNode[25090] 68556000000.0 Msun/h\n",
      "TreeNode[25402] 67450300000.0 Msun/h\n",
      "TreeNode[25742] 54181400000.0 Msun/h\n",
      "TreeNode[26028] 51969900000.0 Msun/h\n",
      "TreeNode[26325] 44229700000.0 Msun/h\n",
      "TreeNode[26584] 43124000000.0 Msun/h\n",
      "TreeNode[26832] 39806700000.0 Msun/h\n",
      "TreeNode[23360] 87353700000.0 Msun/h\n",
      "TreeNode[23711] 86247900000.0 Msun/h\n",
      "TreeNode[24077] 77402000000.0 Msun/h\n",
      "TreeNode[14847] 622533000000.0 Msun/h\n",
      "TreeNode[15269] 601524000000.0 Msun/h\n",
      "TreeNode[15691] 607053000000.0 Msun/h\n",
      "TreeNode[16114] 641331000000.0 Msun/h\n",
      "TreeNode[16542] 629168000000.0 Msun/h\n",
      "TreeNode[16957] 639119000000.0 Msun/h\n",
      "TreeNode[17372] 651282000000.0 Msun/h\n",
      "TreeNode[17785] 622533000000.0 Msun/h\n",
      "TreeNode[18196] 601524000000.0 Msun/h\n",
      "TreeNode[18601] 587149000000.0 Msun/h\n",
      "TreeNode[19006] 581621000000.0 Msun/h\n",
      "TreeNode[19413] 539602000000.0 Msun/h\n",
      "TreeNode[19807] 560612000000.0 Msun/h\n",
      "TreeNode[20203] 539602000000.0 Msun/h\n",
      "TreeNode[13946] 3242040000000.0 Msun/h\n",
      "TreeNode[14377] 3158000000000.0 Msun/h\n",
      "TreeNode[14809] 3057380000000.0 Msun/h\n",
      "TreeNode[15231] 2943490000000.0 Msun/h\n",
      "TreeNode[15655] 2858340000000.0 Msun/h\n",
      "TreeNode[16081] 2751090000000.0 Msun/h\n",
      "TreeNode[16508] 2652680000000.0 Msun/h\n",
      "TreeNode[16924] 2416050000000.0 Msun/h\n",
      "TreeNode[17345] 2295520000000.0 Msun/h\n",
      "TreeNode[17758] 1799040000000.0 Msun/h\n",
      "TreeNode[18169] 1692890000000.0 Msun/h\n",
      "TreeNode[18573] 1549150000000.0 Msun/h\n",
      "TreeNode[18981] 1431940000000.0 Msun/h\n",
      "TreeNode[19385] 1418670000000.0 Msun/h\n",
      "TreeNode[19781] 1413140000000.0 Msun/h\n",
      "TreeNode[20177] 1387710000000.0 Msun/h\n",
      "TreeNode[20563] 1365590000000.0 Msun/h\n",
      "TreeNode[20954] 1345690000000.0 Msun/h\n",
      "TreeNode[21342] 1320260000000.0 Msun/h\n",
      "TreeNode[21716] 1298140000000.0 Msun/h\n",
      "TreeNode[22092] 1262760000000.0 Msun/h\n",
      "TreeNode[22459] 1224060000000.0 Msun/h\n",
      "TreeNode[22819] 1184250000000.0 Msun/h\n",
      "TreeNode[23175] 1145550000000.0 Msun/h\n",
      "TreeNode[23527] 1115690000000.0 Msun/h\n",
      "TreeNode[23881] 1078100000000.0 Msun/h\n",
      "TreeNode[24221] 1032760000000.0 Msun/h\n",
      "TreeNode[24565] 952044000000.0 Msun/h\n",
      "TreeNode[24900] 896757000000.0 Msun/h\n",
      "TreeNode[25215] 767385000000.0 Msun/h\n",
      "TreeNode[25528] 712098000000.0 Msun/h\n",
      "TreeNode[25825] 672292000000.0 Msun/h\n",
      "TreeNode[26121] 461095000000.0 Msun/h\n",
      "TreeNode[26385] 425711000000.0 Msun/h\n",
      "TreeNode[26640] 390327000000.0 Msun/h\n",
      "TreeNode[26895] 284176000000.0 Msun/h\n",
      "TreeNode[27111] 277541000000.0 Msun/h\n",
      "TreeNode[27328] 235523000000.0 Msun/h\n",
      "TreeNode[27527] 200139000000.0 Msun/h\n",
      "TreeNode[27717] 182448000000.0 Msun/h\n",
      "TreeNode[26796] 53075600000.0 Msun/h\n",
      "TreeNode[13079] 3371410000000.0 Msun/h\n",
      "TreeNode[13507] 3294010000000.0 Msun/h\n",
      "TreeNode[12638] 4024900000000.0 Msun/h\n",
      "TreeNode[13080] 3138100000000.0 Msun/h\n",
      "TreeNode[13508] 2209270000000.0 Msun/h\n",
      "TreeNode[13945] 3838030000000.0 Msun/h\n",
      "TreeNode[14375] 4456140000000.0 Msun/h\n",
      "TreeNode[14807] 4613160000000.0 Msun/h\n",
      "TreeNode[15229] 4959260000000.0 Msun/h\n",
      "TreeNode[15653] 5340740000000.0 Msun/h\n",
      "TreeNode[16078] 5848270000000.0 Msun/h\n",
      "TreeNode[16505] 5676880000000.0 Msun/h\n",
      "TreeNode[16922] 4574460000000.0 Msun/h\n",
      "TreeNode[17343] 4298020000000.0 Msun/h\n",
      "TreeNode[17756] 3190070000000.0 Msun/h\n",
      "TreeNode[18167] 2911420000000.0 Msun/h\n",
      "TreeNode[18571] 2710180000000.0 Msun/h\n",
      "TreeNode[18977] 2567530000000.0 Msun/h\n",
      "TreeNode[19382] 2482390000000.0 Msun/h\n",
      "TreeNode[19778] 2416050000000.0 Msun/h\n",
      "TreeNode[20175] 2375140000000.0 Msun/h\n",
      "TreeNode[20561] 2332010000000.0 Msun/h\n",
      "TreeNode[20952] 2296630000000.0 Msun/h\n",
      "TreeNode[21340] 2256820000000.0 Msun/h\n",
      "TreeNode[21714] 2228070000000.0 Msun/h\n",
      "TreeNode[22091] 1999180000000.0 Msun/h\n",
      "TreeNode[22458] 1865390000000.0 Msun/h\n",
      "TreeNode[22818] 1793510000000.0 Msun/h\n",
      "TreeNode[23174] 1747070000000.0 Msun/h\n",
      "TreeNode[23526] 1713900000000.0 Msun/h\n",
      "TreeNode[23880] 1690680000000.0 Msun/h\n",
      "TreeNode[24220] 1680730000000.0 Msun/h\n",
      "TreeNode[24562] 1637600000000.0 Msun/h\n",
      "TreeNode[24898] 1364490000000.0 Msun/h\n",
      "TreeNode[25213] 1175400000000.0 Msun/h\n",
      "TreeNode[17904] 158121000000.0 Msun/h\n",
      "TreeNode[18314] 154804000000.0 Msun/h\n",
      "TreeNode[18680] 202351000000.0 Msun/h\n",
      "TreeNode[19183] 105046000000.0 Msun/h\n",
      "TreeNode[19589] 105046000000.0 Msun/h\n",
      "TreeNode[19987] 98411100000.0 Msun/h\n",
      "TreeNode[20383] 98411100000.0 Msun/h\n",
      "TreeNode[20762] 102834000000.0 Msun/h\n",
      "TreeNode[21159] 93988100000.0 Msun/h\n",
      "TreeNode[21537] 93988100000.0 Msun/h\n",
      "TreeNode[21900] 101728000000.0 Msun/h\n",
      "TreeNode[22275] 97305400000.0 Msun/h\n",
      "TreeNode[22639] 96199600000.0 Msun/h\n",
      "TreeNode[23002] 92882400000.0 Msun/h\n",
      "TreeNode[23367] 84036400000.0 Msun/h\n",
      "TreeNode[23730] 76296200000.0 Msun/h\n",
      "TreeNode[24069] 81825000000.0 Msun/h\n",
      "TreeNode[24424] 72979000000.0 Msun/h\n",
      "TreeNode[24759] 71873300000.0 Msun/h\n",
      "TreeNode[25103] 64133100000.0 Msun/h\n",
      "TreeNode[25422] 58604400000.0 Msun/h\n",
      "TreeNode[25746] 53075600000.0 Msun/h\n",
      "TreeNode[26042] 47546900000.0 Msun/h\n",
      "TreeNode[26341] 37595300000.0 Msun/h\n",
      "TreeNode[26616] 28749300000.0 Msun/h\n",
      "TreeNode[14029] 337252000000.0 Msun/h\n",
      "TreeNode[14460] 337252000000.0 Msun/h\n",
      "TreeNode[14892] 330617000000.0 Msun/h\n",
      "TreeNode[15314] 325088000000.0 Msun/h\n",
      "TreeNode[15736] 325088000000.0 Msun/h\n",
      "TreeNode[16163] 311819000000.0 Msun/h\n",
      "TreeNode[16593] 295233000000.0 Msun/h\n",
      "TreeNode[17006] 298551000000.0 Msun/h\n",
      "TreeNode[17426] 293022000000.0 Msun/h\n",
      "TreeNode[17837] 290810000000.0 Msun/h\n",
      "TreeNode[18249] 274224000000.0 Msun/h\n",
      "TreeNode[18649] 284176000000.0 Msun/h\n",
      "TreeNode[19051] 284176000000.0 Msun/h\n",
      "TreeNode[19457] 279753000000.0 Msun/h\n",
      "TreeNode[19855] 270907000000.0 Msun/h\n",
      "TreeNode[20255] 246581000000.0 Msun/h\n",
      "TreeNode[20641] 237735000000.0 Msun/h\n",
      "TreeNode[21035] 226677000000.0 Msun/h\n",
      "TreeNode[21425] 203457000000.0 Msun/h\n",
      "TreeNode[21799] 197928000000.0 Msun/h\n",
      "TreeNode[22171] 199034000000.0 Msun/h\n",
      "TreeNode[22541] 185765000000.0 Msun/h\n",
      "TreeNode[22905] 179130000000.0 Msun/h\n",
      "TreeNode[23261] 175813000000.0 Msun/h\n",
      "TreeNode[23603] 186871000000.0 Msun/h\n",
      "TreeNode[23950] 199034000000.0 Msun/h\n",
      "TreeNode[24296] 181342000000.0 Msun/h\n",
      "TreeNode[24635] 176919000000.0 Msun/h\n",
      "TreeNode[18504] 54181400000.0 Msun/h\n",
      "TreeNode[18902] 56392900000.0 Msun/h\n",
      "TreeNode[19312] 51969900000.0 Msun/h\n",
      "TreeNode[19724] 47546900000.0 Msun/h\n",
      "TreeNode[12198] 3698710000000.0 Msun/h\n",
      "TreeNode[12639] 3633470000000.0 Msun/h\n",
      "TreeNode[11615] 95093900000.0 Msun/h\n",
      "TreeNode[12062] 82930700000.0 Msun/h\n",
      "TreeNode[12515] 77402000000.0 Msun/h\n",
      "TreeNode[12954] 76296200000.0 Msun/h\n",
      "TreeNode[13429] 55287100000.0 Msun/h\n",
      "TreeNode[13828] 70767500000.0 Msun/h\n",
      "TreeNode[14282] 64133100000.0 Msun/h\n",
      "TreeNode[14719] 59710100000.0 Msun/h\n",
      "TreeNode[15149] 60815800000.0 Msun/h\n",
      "TreeNode[15559] 65238800000.0 Msun/h\n",
      "TreeNode[15987] 60815800000.0 Msun/h\n",
      "TreeNode[16416] 59710100000.0 Msun/h\n",
      "TreeNode[16837] 64133100000.0 Msun/h\n",
      "TreeNode[17255] 59710100000.0 Msun/h\n",
      "TreeNode[17660] 65238800000.0 Msun/h\n",
      "TreeNode[18067] 67450300000.0 Msun/h\n",
      "TreeNode[18467] 70767500000.0 Msun/h\n",
      "TreeNode[18865] 71873300000.0 Msun/h\n",
      "TreeNode[19267] 71873300000.0 Msun/h\n",
      "TreeNode[19677] 67450300000.0 Msun/h\n",
      "TreeNode[20057] 68556000000.0 Msun/h\n",
      "TreeNode[20451] 68556000000.0 Msun/h\n",
      "TreeNode[20807] 77402000000.0 Msun/h\n",
      "TreeNode[21191] 79613500000.0 Msun/h\n",
      "TreeNode[21582] 74084800000.0 Msun/h\n",
      "TreeNode[21929] 82930700000.0 Msun/h\n",
      "TreeNode[22313] 79613500000.0 Msun/h\n",
      "TreeNode[10901] 1402080000000.0 Msun/h\n",
      "TreeNode[11332] 1396550000000.0 Msun/h\n",
      "TreeNode[11763] 1442990000000.0 Msun/h\n",
      "TreeNode[12199] 2020190000000.0 Msun/h\n",
      "TreeNode[12642] 1431940000000.0 Msun/h\n",
      "TreeNode[13081] 2009130000000.0 Msun/h\n",
      "TreeNode[13510] 1489440000000.0 Msun/h\n",
      "TreeNode[14309] 49758400000.0 Msun/h\n",
      "TreeNode[14723] 57498600000.0 Msun/h\n",
      "TreeNode[10516] 586044000000.0 Msun/h\n",
      "TreeNode[10945] 588255000000.0 Msun/h\n",
      "TreeNode[11375] 576092000000.0 Msun/h\n",
      "TreeNode[11938] 178025000000.0 Msun/h\n",
      "TreeNode[12379] 173602000000.0 Msun/h\n",
      "TreeNode[10130] 336146000000.0 Msun/h\n",
      "TreeNode[10563] 329511000000.0 Msun/h\n",
      "TreeNode[10991] 331723000000.0 Msun/h\n",
      "TreeNode[11421] 322877000000.0 Msun/h\n",
      "TreeNode[11851] 325088000000.0 Msun/h\n",
      "TreeNode[12288] 327300000000.0 Msun/h\n",
      "TreeNode[12641] 1590060000000.0 Msun/h\n",
      "TreeNode[13082] 1577890000000.0 Msun/h\n",
      "TreeNode[13511] 1415350000000.0 Msun/h\n",
      "TreeNode[13948] 1425300000000.0 Msun/h\n",
      "TreeNode[14378] 1730490000000.0 Msun/h\n",
      "TreeNode[14810] 2374030000000.0 Msun/h\n",
      "TreeNode[15232] 2228070000000.0 Msun/h\n",
      "TreeNode[15656] 2197110000000.0 Msun/h\n",
      "TreeNode[16082] 2327590000000.0 Msun/h\n",
      "TreeNode[16509] 1740440000000.0 Msun/h\n",
      "TreeNode[16925] 1645350000000.0 Msun/h\n",
      "TreeNode[17347] 1595590000000.0 Msun/h\n",
      "TreeNode[17759] 1576790000000.0 Msun/h\n",
      "TreeNode[18170] 1527030000000.0 Msun/h\n",
      "TreeNode[18574] 1461790000000.0 Msun/h\n",
      "TreeNode[18979] 1513760000000.0 Msun/h\n",
      "TreeNode[19384] 1498280000000.0 Msun/h\n",
      "TreeNode[19780] 1425300000000.0 Msun/h\n",
      "TreeNode[20178] 1368910000000.0 Msun/h\n",
      "TreeNode[20564] 1312520000000.0 Msun/h\n",
      "TreeNode[20955] 1273820000000.0 Msun/h\n",
      "TreeNode[21343] 1225160000000.0 Msun/h\n",
      "TreeNode[21717] 1178720000000.0 Msun/h\n",
      "TreeNode[22093] 1154400000000.0 Msun/h\n",
      "TreeNode[22460] 1131170000000.0 Msun/h\n",
      "TreeNode[22820] 1086950000000.0 Msun/h\n",
      "TreeNode[23176] 1058200000000.0 Msun/h\n",
      "TreeNode[23528] 1026130000000.0 Msun/h\n",
      "TreeNode[23882] 979688000000.0 Msun/h\n",
      "TreeNode[24222] 932141000000.0 Msun/h\n",
      "TreeNode[24567] 863585000000.0 Msun/h\n",
      "TreeNode[24902] 807192000000.0 Msun/h\n",
      "TreeNode[25216] 754117000000.0 Msun/h\n",
      "TreeNode[25530] 704358000000.0 Msun/h\n",
      "TreeNode[25827] 610370000000.0 Msun/h\n",
      "TreeNode[26116] 626956000000.0 Msun/h\n",
      "TreeNode[26380] 579409000000.0 Msun/h\n",
      "TreeNode[26636] 473258000000.0 Msun/h\n",
      "TreeNode[26882] 433451000000.0 Msun/h\n",
      "TreeNode[27099] 402490000000.0 Msun/h\n",
      "TreeNode[27312] 423499000000.0 Msun/h\n",
      "TreeNode[27511] 372635000000.0 Msun/h\n",
      "TreeNode[27701] 323983000000.0 Msun/h\n",
      "TreeNode[27872] 273118000000.0 Msun/h\n",
      "TreeNode[28036] 236629000000.0 Msun/h\n",
      "TreeNode[28187] 162544000000.0 Msun/h\n",
      "TreeNode[28324] 150381000000.0 Msun/h\n",
      "TreeNode[28452] 122737000000.0 Msun/h\n",
      "TreeNode[28574] 110574000000.0 Msun/h\n",
      "TreeNode[28683] 114997000000.0 Msun/h\n",
      "TreeNode[28791] 92882400000.0 Msun/h\n",
      "TreeNode[28887] 82930700000.0 Msun/h\n",
      "TreeNode[28969] 85142200000.0 Msun/h\n",
      "TreeNode[29046] 74084800000.0 Msun/h\n",
      "TreeNode[29114] 68556000000.0 Msun/h\n",
      "TreeNode[29180] 51969900000.0 Msun/h\n",
      "TreeNode[29230] 50864200000.0 Msun/h\n",
      "TreeNode[29275] 45335400000.0 Msun/h\n",
      "TreeNode[29316] 43124000000.0 Msun/h\n",
      "TreeNode[29354] 34278000000.0 Msun/h\n",
      "TreeNode[29387] 32066500000.0 Msun/h\n",
      "TreeNode[29419] 28749300000.0 Msun/h\n",
      "TreeNode[29449] 22114900000.0 Msun/h\n",
      "TreeNode[27548] 126055000000.0 Msun/h\n",
      "TreeNode[27737] 118314000000.0 Msun/h\n",
      "TreeNode[27906] 108363000000.0 Msun/h\n",
      "TreeNode[28067] 113891000000.0 Msun/h\n",
      "TreeNode[28216] 100623000000.0 Msun/h\n",
      "TreeNode[28354] 90670900000.0 Msun/h\n",
      "TreeNode[27420] 63027300000.0 Msun/h\n",
      "TreeNode[27622] 55287100000.0 Msun/h\n",
      "TreeNode[27814] 47546900000.0 Msun/h\n",
      "TreeNode[27968] 57498600000.0 Msun/h\n",
      "TreeNode[28140] 43124000000.0 Msun/h\n",
      "TreeNode[28289] 37595300000.0 Msun/h\n",
      "TreeNode[23255] 184659000000.0 Msun/h\n",
      "TreeNode[23607] 183553000000.0 Msun/h\n",
      "TreeNode[23959] 183553000000.0 Msun/h\n",
      "TreeNode[24304] 163650000000.0 Msun/h\n",
      "TreeNode[24641] 169179000000.0 Msun/h\n",
      "TreeNode[24977] 154804000000.0 Msun/h\n",
      "TreeNode[25289] 151487000000.0 Msun/h\n",
      "TreeNode[25602] 149275000000.0 Msun/h\n",
      "TreeNode[25901] 132689000000.0 Msun/h\n",
      "TreeNode[26194] 113891000000.0 Msun/h\n",
      "TreeNode[26457] 105046000000.0 Msun/h\n",
      "TreeNode[26718] 95093900000.0 Msun/h\n",
      "TreeNode[26966] 80719200000.0 Msun/h\n",
      "TreeNode[27176] 87353700000.0 Msun/h\n",
      "TreeNode[27391] 87353700000.0 Msun/h\n",
      "TreeNode[27583] 82930700000.0 Msun/h\n",
      "TreeNode[24182] 39806700000.0 Msun/h\n",
      "TreeNode[23057] 69661800000.0 Msun/h\n",
      "TreeNode[23418] 63027300000.0 Msun/h\n",
      "TreeNode[23783] 58604400000.0 Msun/h\n",
      "TreeNode[24149] 49758400000.0 Msun/h\n",
      "TreeNode[24491] 46441200000.0 Msun/h\n",
      "TreeNode[24849] 39806700000.0 Msun/h\n",
      "TreeNode[25202] 22114900000.0 Msun/h\n",
      "TreeNode[25517] 22114900000.0 Msun/h\n",
      "TreeNode[22779] 40912500000.0 Msun/h\n",
      "TreeNode[19248] 77402000000.0 Msun/h\n",
      "TreeNode[19657] 72979000000.0 Msun/h\n",
      "TreeNode[20048] 71873300000.0 Msun/h\n",
      "TreeNode[20442] 71873300000.0 Msun/h\n",
      "TreeNode[20834] 67450300000.0 Msun/h\n",
      "TreeNode[21228] 65238800000.0 Msun/h\n",
      "TreeNode[15219] 26537800000.0 Msun/h\n",
      "TreeNode[12577] 43124000000.0 Msun/h\n",
      "TreeNode[13025] 39806700000.0 Msun/h\n",
      "TreeNode[13492] 24326300000.0 Msun/h\n",
      "TreeNode[13864] 54181400000.0 Msun/h\n",
      "TreeNode[14314] 48652700000.0 Msun/h\n",
      "TreeNode[14751] 48652700000.0 Msun/h\n",
      "TreeNode[15198] 38701000000.0 Msun/h\n",
      "TreeNode[15625] 36489500000.0 Msun/h\n",
      "TreeNode[16046] 37595300000.0 Msun/h\n",
      "TreeNode[16468] 38701000000.0 Msun/h\n",
      "TreeNode[16892] 37595300000.0 Msun/h\n",
      "TreeNode[17314] 35383800000.0 Msun/h\n"
     ]
    }
   ],
   "source": [
    "#Accessing all node in a tree\n",
    "print(my_tree['tree'])\n",
    "#loop over nodes\n",
    "for my_node in my_tree['tree']:\n",
    "    print(my_node, my_node['mass'])"
   ]
  },
  {
   "cell_type": "code",
   "execution_count": 13,
   "id": "bf74068d-85fc-4864-97dd-c8f2ed90e361",
   "metadata": {
    "tags": []
   },
   "outputs": [
    {
     "data": {
      "text/plain": [
       "[TreeNode[0],\n",
       " TreeNode[361],\n",
       " TreeNode[725],\n",
       " TreeNode[1093],\n",
       " TreeNode[1467],\n",
       " TreeNode[1843],\n",
       " TreeNode[2229],\n",
       " TreeNode[2615],\n",
       " TreeNode[3002],\n",
       " TreeNode[3387],\n",
       " TreeNode[3775],\n",
       " TreeNode[4178],\n",
       " TreeNode[4578],\n",
       " TreeNode[4987],\n",
       " TreeNode[5392],\n",
       " TreeNode[5794],\n",
       " TreeNode[6208],\n",
       " TreeNode[6623],\n",
       " TreeNode[7041],\n",
       " TreeNode[7460],\n",
       " TreeNode[7878],\n",
       " TreeNode[8298],\n",
       " TreeNode[8724],\n",
       " TreeNode[9155],\n",
       " TreeNode[9590],\n",
       " TreeNode[10026],\n",
       " TreeNode[10461],\n",
       " TreeNode[10890],\n",
       " TreeNode[11320],\n",
       " TreeNode[11754],\n",
       " TreeNode[12192],\n",
       " TreeNode[12633],\n",
       " TreeNode[13074],\n",
       " TreeNode[13502],\n",
       " TreeNode[13940],\n",
       " TreeNode[14372],\n",
       " TreeNode[14804],\n",
       " TreeNode[15226],\n",
       " TreeNode[15650],\n",
       " TreeNode[16076],\n",
       " TreeNode[16504],\n",
       " TreeNode[16921],\n",
       " TreeNode[17342],\n",
       " TreeNode[17755],\n",
       " TreeNode[18165],\n",
       " TreeNode[18569],\n",
       " TreeNode[18975],\n",
       " TreeNode[19380],\n",
       " TreeNode[19776],\n",
       " TreeNode[20173],\n",
       " TreeNode[20559],\n",
       " TreeNode[20950],\n",
       " TreeNode[21338],\n",
       " TreeNode[21712],\n",
       " TreeNode[22090],\n",
       " TreeNode[22457],\n",
       " TreeNode[22816],\n",
       " TreeNode[23172],\n",
       " TreeNode[23524],\n",
       " TreeNode[23878],\n",
       " TreeNode[24218],\n",
       " TreeNode[24564],\n",
       " TreeNode[24895],\n",
       " TreeNode[25209],\n",
       " TreeNode[25522],\n",
       " TreeNode[25818],\n",
       " TreeNode[26108],\n",
       " TreeNode[26372],\n",
       " TreeNode[26627],\n",
       " TreeNode[26873],\n",
       " TreeNode[27090],\n",
       " TreeNode[27306],\n",
       " TreeNode[27504],\n",
       " TreeNode[27693],\n",
       " TreeNode[27863],\n",
       " TreeNode[28026],\n",
       " TreeNode[28173],\n",
       " TreeNode[28309],\n",
       " TreeNode[28436],\n",
       " TreeNode[28557],\n",
       " TreeNode[28668],\n",
       " TreeNode[28773],\n",
       " TreeNode[28868],\n",
       " TreeNode[28951],\n",
       " TreeNode[29026],\n",
       " TreeNode[29094],\n",
       " TreeNode[29157],\n",
       " TreeNode[29209],\n",
       " TreeNode[29253],\n",
       " TreeNode[29294],\n",
       " TreeNode[29331],\n",
       " TreeNode[29366],\n",
       " TreeNode[29398],\n",
       " TreeNode[29426],\n",
       " TreeNode[29452],\n",
       " TreeNode[29475],\n",
       " TreeNode[29498],\n",
       " TreeNode[29516],\n",
       " TreeNode[29534],\n",
       " TreeNode[29549],\n",
       " TreeNode[29563],\n",
       " TreeNode[29575],\n",
       " TreeNode[29588],\n",
       " TreeNode[29599],\n",
       " TreeNode[29611],\n",
       " TreeNode[29625],\n",
       " TreeNode[29635],\n",
       " TreeNode[29643],\n",
       " TreeNode[29650],\n",
       " TreeNode[29659],\n",
       " TreeNode[29666],\n",
       " TreeNode[29670],\n",
       " TreeNode[29676],\n",
       " TreeNode[29681],\n",
       " TreeNode[27609],\n",
       " TreeNode[27793],\n",
       " TreeNode[27957],\n",
       " TreeNode[28119],\n",
       " TreeNode[28268],\n",
       " TreeNode[28413],\n",
       " TreeNode[28539],\n",
       " TreeNode[28662],\n",
       " TreeNode[24434],\n",
       " TreeNode[24795],\n",
       " TreeNode[25115],\n",
       " TreeNode[25442],\n",
       " TreeNode[25750],\n",
       " TreeNode[26039],\n",
       " TreeNode[26321],\n",
       " TreeNode[26592],\n",
       " TreeNode[23741],\n",
       " TreeNode[24094],\n",
       " TreeNode[24433],\n",
       " TreeNode[24771],\n",
       " TreeNode[25090],\n",
       " TreeNode[25402],\n",
       " TreeNode[25742],\n",
       " TreeNode[26028],\n",
       " TreeNode[26325],\n",
       " TreeNode[26584],\n",
       " TreeNode[26832],\n",
       " TreeNode[23360],\n",
       " TreeNode[23711],\n",
       " TreeNode[24077],\n",
       " TreeNode[14847],\n",
       " TreeNode[15269],\n",
       " TreeNode[15691],\n",
       " TreeNode[16114],\n",
       " TreeNode[16542],\n",
       " TreeNode[16957],\n",
       " TreeNode[17372],\n",
       " TreeNode[17785],\n",
       " TreeNode[18196],\n",
       " TreeNode[18601],\n",
       " TreeNode[19006],\n",
       " TreeNode[19413],\n",
       " TreeNode[19807],\n",
       " TreeNode[20203],\n",
       " TreeNode[13946],\n",
       " TreeNode[14377],\n",
       " TreeNode[14809],\n",
       " TreeNode[15231],\n",
       " TreeNode[15655],\n",
       " TreeNode[16081],\n",
       " TreeNode[16508],\n",
       " TreeNode[16924],\n",
       " TreeNode[17345],\n",
       " TreeNode[17758],\n",
       " TreeNode[18169],\n",
       " TreeNode[18573],\n",
       " TreeNode[18981],\n",
       " TreeNode[19385],\n",
       " TreeNode[19781],\n",
       " TreeNode[20177],\n",
       " TreeNode[20563],\n",
       " TreeNode[20954],\n",
       " TreeNode[21342],\n",
       " TreeNode[21716],\n",
       " TreeNode[22092],\n",
       " TreeNode[22459],\n",
       " TreeNode[22819],\n",
       " TreeNode[23175],\n",
       " TreeNode[23527],\n",
       " TreeNode[23881],\n",
       " TreeNode[24221],\n",
       " TreeNode[24565],\n",
       " TreeNode[24900],\n",
       " TreeNode[25215],\n",
       " TreeNode[25528],\n",
       " TreeNode[25825],\n",
       " TreeNode[26121],\n",
       " TreeNode[26385],\n",
       " TreeNode[26640],\n",
       " TreeNode[26895],\n",
       " TreeNode[27111],\n",
       " TreeNode[27328],\n",
       " TreeNode[27527],\n",
       " TreeNode[27717],\n",
       " TreeNode[26796],\n",
       " TreeNode[13079],\n",
       " TreeNode[13507],\n",
       " TreeNode[12638],\n",
       " TreeNode[13080],\n",
       " TreeNode[13508],\n",
       " TreeNode[13945],\n",
       " TreeNode[14375],\n",
       " TreeNode[14807],\n",
       " TreeNode[15229],\n",
       " TreeNode[15653],\n",
       " TreeNode[16078],\n",
       " TreeNode[16505],\n",
       " TreeNode[16922],\n",
       " TreeNode[17343],\n",
       " TreeNode[17756],\n",
       " TreeNode[18167],\n",
       " TreeNode[18571],\n",
       " TreeNode[18977],\n",
       " TreeNode[19382],\n",
       " TreeNode[19778],\n",
       " TreeNode[20175],\n",
       " TreeNode[20561],\n",
       " TreeNode[20952],\n",
       " TreeNode[21340],\n",
       " TreeNode[21714],\n",
       " TreeNode[22091],\n",
       " TreeNode[22458],\n",
       " TreeNode[22818],\n",
       " TreeNode[23174],\n",
       " TreeNode[23526],\n",
       " TreeNode[23880],\n",
       " TreeNode[24220],\n",
       " TreeNode[24562],\n",
       " TreeNode[24898],\n",
       " TreeNode[25213],\n",
       " TreeNode[17904],\n",
       " TreeNode[18314],\n",
       " TreeNode[18680],\n",
       " TreeNode[19183],\n",
       " TreeNode[19589],\n",
       " TreeNode[19987],\n",
       " TreeNode[20383],\n",
       " TreeNode[20762],\n",
       " TreeNode[21159],\n",
       " TreeNode[21537],\n",
       " TreeNode[21900],\n",
       " TreeNode[22275],\n",
       " TreeNode[22639],\n",
       " TreeNode[23002],\n",
       " TreeNode[23367],\n",
       " TreeNode[23730],\n",
       " TreeNode[24069],\n",
       " TreeNode[24424],\n",
       " TreeNode[24759],\n",
       " TreeNode[25103],\n",
       " TreeNode[25422],\n",
       " TreeNode[25746],\n",
       " TreeNode[26042],\n",
       " TreeNode[26341],\n",
       " TreeNode[26616],\n",
       " TreeNode[14029],\n",
       " TreeNode[14460],\n",
       " TreeNode[14892],\n",
       " TreeNode[15314],\n",
       " TreeNode[15736],\n",
       " TreeNode[16163],\n",
       " TreeNode[16593],\n",
       " TreeNode[17006],\n",
       " TreeNode[17426],\n",
       " TreeNode[17837],\n",
       " TreeNode[18249],\n",
       " TreeNode[18649],\n",
       " TreeNode[19051],\n",
       " TreeNode[19457],\n",
       " TreeNode[19855],\n",
       " TreeNode[20255],\n",
       " TreeNode[20641],\n",
       " TreeNode[21035],\n",
       " TreeNode[21425],\n",
       " TreeNode[21799],\n",
       " TreeNode[22171],\n",
       " TreeNode[22541],\n",
       " TreeNode[22905],\n",
       " TreeNode[23261],\n",
       " TreeNode[23603],\n",
       " TreeNode[23950],\n",
       " TreeNode[24296],\n",
       " TreeNode[24635],\n",
       " TreeNode[18504],\n",
       " TreeNode[18902],\n",
       " TreeNode[19312],\n",
       " TreeNode[19724],\n",
       " TreeNode[12198],\n",
       " TreeNode[12639],\n",
       " TreeNode[11615],\n",
       " TreeNode[12062],\n",
       " TreeNode[12515],\n",
       " TreeNode[12954],\n",
       " TreeNode[13429],\n",
       " TreeNode[13828],\n",
       " TreeNode[14282],\n",
       " TreeNode[14719],\n",
       " TreeNode[15149],\n",
       " TreeNode[15559],\n",
       " TreeNode[15987],\n",
       " TreeNode[16416],\n",
       " TreeNode[16837],\n",
       " TreeNode[17255],\n",
       " TreeNode[17660],\n",
       " TreeNode[18067],\n",
       " TreeNode[18467],\n",
       " TreeNode[18865],\n",
       " TreeNode[19267],\n",
       " TreeNode[19677],\n",
       " TreeNode[20057],\n",
       " TreeNode[20451],\n",
       " TreeNode[20807],\n",
       " TreeNode[21191],\n",
       " TreeNode[21582],\n",
       " TreeNode[21929],\n",
       " TreeNode[22313],\n",
       " TreeNode[10901],\n",
       " TreeNode[11332],\n",
       " TreeNode[11763],\n",
       " TreeNode[12199],\n",
       " TreeNode[12642],\n",
       " TreeNode[13081],\n",
       " TreeNode[13510],\n",
       " TreeNode[14309],\n",
       " TreeNode[14723],\n",
       " TreeNode[10516],\n",
       " TreeNode[10945],\n",
       " TreeNode[11375],\n",
       " TreeNode[11938],\n",
       " TreeNode[12379],\n",
       " TreeNode[10130],\n",
       " TreeNode[10563],\n",
       " TreeNode[10991],\n",
       " TreeNode[11421],\n",
       " TreeNode[11851],\n",
       " TreeNode[12288],\n",
       " TreeNode[12641],\n",
       " TreeNode[13082],\n",
       " TreeNode[13511],\n",
       " TreeNode[13948],\n",
       " TreeNode[14378],\n",
       " TreeNode[14810],\n",
       " TreeNode[15232],\n",
       " TreeNode[15656],\n",
       " TreeNode[16082],\n",
       " TreeNode[16509],\n",
       " TreeNode[16925],\n",
       " TreeNode[17347],\n",
       " TreeNode[17759],\n",
       " TreeNode[18170],\n",
       " TreeNode[18574],\n",
       " TreeNode[18979],\n",
       " TreeNode[19384],\n",
       " TreeNode[19780],\n",
       " TreeNode[20178],\n",
       " TreeNode[20564],\n",
       " TreeNode[20955],\n",
       " TreeNode[21343],\n",
       " TreeNode[21717],\n",
       " TreeNode[22093],\n",
       " TreeNode[22460],\n",
       " TreeNode[22820],\n",
       " TreeNode[23176],\n",
       " TreeNode[23528],\n",
       " TreeNode[23882],\n",
       " TreeNode[24222],\n",
       " TreeNode[24567],\n",
       " TreeNode[24902],\n",
       " TreeNode[25216],\n",
       " TreeNode[25530],\n",
       " TreeNode[25827],\n",
       " TreeNode[26116],\n",
       " TreeNode[26380],\n",
       " TreeNode[26636],\n",
       " TreeNode[26882],\n",
       " TreeNode[27099],\n",
       " TreeNode[27312],\n",
       " TreeNode[27511],\n",
       " TreeNode[27701],\n",
       " TreeNode[27872],\n",
       " TreeNode[28036],\n",
       " TreeNode[28187],\n",
       " TreeNode[28324],\n",
       " TreeNode[28452],\n",
       " TreeNode[28574],\n",
       " TreeNode[28683],\n",
       " TreeNode[28791],\n",
       " TreeNode[28887],\n",
       " TreeNode[28969],\n",
       " TreeNode[29046],\n",
       " TreeNode[29114],\n",
       " TreeNode[29180],\n",
       " TreeNode[29230],\n",
       " TreeNode[29275],\n",
       " TreeNode[29316],\n",
       " TreeNode[29354],\n",
       " TreeNode[29387],\n",
       " TreeNode[29419],\n",
       " TreeNode[29449],\n",
       " TreeNode[27548],\n",
       " TreeNode[27737],\n",
       " TreeNode[27906],\n",
       " TreeNode[28067],\n",
       " TreeNode[28216],\n",
       " TreeNode[28354],\n",
       " TreeNode[27420],\n",
       " TreeNode[27622],\n",
       " TreeNode[27814],\n",
       " TreeNode[27968],\n",
       " TreeNode[28140],\n",
       " TreeNode[28289],\n",
       " TreeNode[23255],\n",
       " TreeNode[23607],\n",
       " TreeNode[23959],\n",
       " TreeNode[24304],\n",
       " TreeNode[24641],\n",
       " TreeNode[24977],\n",
       " TreeNode[25289],\n",
       " TreeNode[25602],\n",
       " TreeNode[25901],\n",
       " TreeNode[26194],\n",
       " TreeNode[26457],\n",
       " TreeNode[26718],\n",
       " TreeNode[26966],\n",
       " TreeNode[27176],\n",
       " TreeNode[27391],\n",
       " TreeNode[27583],\n",
       " TreeNode[24182],\n",
       " TreeNode[23057],\n",
       " TreeNode[23418],\n",
       " TreeNode[23783],\n",
       " TreeNode[24149],\n",
       " TreeNode[24491],\n",
       " TreeNode[24849],\n",
       " TreeNode[25202],\n",
       " TreeNode[25517],\n",
       " TreeNode[22779],\n",
       " TreeNode[19248],\n",
       " TreeNode[19657],\n",
       " TreeNode[20048],\n",
       " TreeNode[20442],\n",
       " TreeNode[20834],\n",
       " TreeNode[21228],\n",
       " TreeNode[15219],\n",
       " TreeNode[12577],\n",
       " TreeNode[13025],\n",
       " TreeNode[13492],\n",
       " TreeNode[13864],\n",
       " TreeNode[14314],\n",
       " TreeNode[14751],\n",
       " TreeNode[15198],\n",
       " TreeNode[15625],\n",
       " TreeNode[16046],\n",
       " TreeNode[16468],\n",
       " TreeNode[16892],\n",
       " TreeNode[17314]]"
      ]
     },
     "execution_count": 13,
     "metadata": {},
     "output_type": "execute_result"
    }
   ],
   "source": [
    "list(my_tree['tree'])"
   ]
  },
  {
   "cell_type": "code",
   "execution_count": 14,
   "id": "660a0089-c2b1-49d1-8203-bd4fc8a3605f",
   "metadata": {
    "tags": []
   },
   "outputs": [
    {
     "data": {
      "text/plain": [
       "unyt_array([522.08, 530.2 , 537.33, 536.93, 544.89, 551.19, 555.4 ,\n",
       "            557.98, 561.68, 565.51, 569.02, 571.92, 576.84, 573.88,\n",
       "            576.19, 571.83, 573.2 , 575.11, 576.7 , 576.72, 580.14,\n",
       "            584.06, 582.52, 585.17, 579.83, 580.62, 583.61, 590.23,\n",
       "            597.79, 607.26, 598.2 , 609.35, 605.52, 604.37, 597.21,\n",
       "            583.39, 567.2 , 493.64, 440.93, 378.34, 407.32, 401.99,\n",
       "            391.24, 362.81, 361.65, 358.61, 356.05, 352.62, 349.74,\n",
       "            347.38, 344.01, 340.05, 336.46, 328.97, 301.65, 300.09,\n",
       "            297.88, 295.06, 291.88, 289.29, 288.01, 273.  , 294.71,\n",
       "            291.8 , 287.87, 284.74, 283.4 , 281.03, 276.93, 270.38,\n",
       "            268.06, 265.19, 261.57, 254.  , 251.43, 248.59, 245.66,\n",
       "            243.32, 240.87, 237.56, 236.37, 229.9 , 226.06, 221.25,\n",
       "            218.05, 214.19, 209.03, 205.38, 199.67, 193.  , 170.64,\n",
       "            164.46, 152.67, 150.64, 143.92, 139.85, 134.56, 129.72,\n",
       "            128.89, 128.62, 120.79, 116.84, 116.  , 114.05, 111.47,\n",
       "            102.02, 107.79,  98.7 ,  98.79,  95.29,  94.06,  95.22,\n",
       "             87.78,  92.59,  96.88,  96.  ,  96.61,  94.13,  89.87,\n",
       "             81.12,  79.6 ,  75.3 , 100.98,  93.66,  93.4 ,  61.14,\n",
       "             89.83,  89.58,  95.76,  12.02, 110.48,  11.68, 105.98,\n",
       "             21.89, 102.12,  98.81,  92.18,  93.68,  86.81,  87.3 ,\n",
       "             84.48, 106.37, 107.3 , 102.24, 195.7 , 194.07,  51.35,\n",
       "            200.29, 198.91, 200.35, 202.19, 202.93, 197.59, 196.6 ,\n",
       "            197.15, 191.89, 195.51, 192.69, 336.87, 335.38, 332.61,\n",
       "            330.23, 327.49, 324.25, 321.29, 312.  , 307.51, 284.15,\n",
       "            279.02, 271.83, 264.98, 264.51, 264.74, 264.3 , 263.08,\n",
       "            261.85, 260.34, 259.4 , 257.41, 254.48, 252.96, 249.52,\n",
       "            248.11, 244.74, 241.89, 235.6 , 230.81, 219.48, 214.73,\n",
       "            211.91, 186.76, 181.22, 179.06, 158.94, 158.1 , 149.3 ,\n",
       "            142.18, 140.4 ,  90.46, 338.22, 336.94, 156.81, 103.39,\n",
       "             79.92, 126.43, 212.25, 256.51, 309.44, 354.1 , 416.75,\n",
       "            413.75, 386.03, 378.92, 344.1 , 334.18, 327.09, 321.63,\n",
       "            318.99, 316.62, 314.89, 313.41, 312.37, 310.88, 309.9 ,\n",
       "            299.42, 292.74, 289.76, 287.88, 285.26, 284.26, 284.86,\n",
       "            281.84, 265.48, 252.89, 123.64, 125.53, 138.11, 111.03,\n",
       "            110.47, 108.82, 109.78, 110.74, 107.98, 111.05, 110.78,\n",
       "            111.1 , 109.56, 107.96, 105.47,  95.7 , 104.65, 103.43,\n",
       "            100.83, 100.48,  93.29,  91.3 ,  87.6 ,  82.53,  74.07,\n",
       "            158.3 , 159.08, 158.8 , 158.23, 159.22, 116.68,  53.07,\n",
       "            155.97, 154.88, 154.77, 153.12, 154.17, 154.49, 154.37,\n",
       "            113.8 , 148.26, 150.28, 144.63, 139.78, 139.87, 143.16,\n",
       "            135.71, 139.65, 133.74, 142.22, 141.55, 136.37, 134.58,\n",
       "             90.19,  93.61,   8.24,  86.88, 345.18, 344.81,  79.78,\n",
       "             98.77,  95.11,  96.72,  57.6 ,  96.42,  91.03,  55.01,\n",
       "             90.12,  17.49,  91.73,  90.9 ,  93.49,  93.5 ,  94.22,\n",
       "             50.11,  97.16,  97.97, 103.44,  96.99, 100.94,  42.6 ,\n",
       "            103.4 , 102.11,  99.75, 103.61, 103.08, 244.9 , 246.67,\n",
       "            184.15, 199.83, 254.91, 185.05, 258.94,  84.15,  20.22,\n",
       "            181.83, 183.73, 183.74, 124.98, 126.  , 150.83, 150.19,\n",
       "            152.03, 151.44, 152.83,  52.77, 261.86, 263.85, 254.34,\n",
       "            213.62,  91.39, 171.6 , 202.3 , 247.58, 300.32, 279.2 ,\n",
       "            274.56, 272.42, 272.44, 269.76, 266.16, 257.17, 270.98,\n",
       "            265.31, 262.1 , 259.51, 256.67, 253.84, 250.81, 249.72,\n",
       "            248.48, 244.65, 243.33, 240.97, 237.2 , 234.49, 228.02,\n",
       "            223.55, 218.44, 214.21, 203.65, 205.83, 200.83, 187.91,\n",
       "            182.75, 179.56, 183.  , 173.99, 166.84, 156.84, 150.86,\n",
       "            136.64, 133.11, 120.31, 116.67,  34.42,  40.05, 106.81,\n",
       "            106.86, 111.3 , 103.01,  90.77,  89.96,  86.81,  85.98,\n",
       "             78.8 ,  77.76,  87.9 ,  68.84, 123.63, 118.58, 117.13,\n",
       "            117.38,  92.59, 112.72,  96.17,  95.21,   8.62,  94.01,\n",
       "             85.04,  83.66, 136.89, 135.77, 136.73, 131.65, 134.17,\n",
       "            131.73, 129.15, 135.14, 122.65, 118.47, 116.64, 109.89,\n",
       "            104.27, 108.75,  56.12, 109.76,  81.89, 100.35,  95.43,\n",
       "             94.66,  88.7 ,  89.37,  82.33,  67.88,  67.46,  14.71,\n",
       "             98.27,  98.55, 100.22,  99.2 ,  99.9 ,  50.14,  68.48,\n",
       "             79.5 ,  21.54,  69.58,  88.9 ,  83.69,  22.85,  77.76,\n",
       "             76.8 ,  77.36,  80.79,  35.47,  78.39], 'kpc/h')"
      ]
     },
     "execution_count": 14,
     "metadata": {},
     "output_type": "execute_result"
    }
   ],
   "source": [
    "my_tree['tree', 'virial_radius']"
   ]
  },
  {
   "cell_type": "markdown",
   "id": "3bcf0ddb-8f80-4846-a345-9bacff5f1798",
   "metadata": {},
   "source": [
    "# Accessing a Forest\n",
    "A forest is a group of trees with halos that interact in a non merging way, trough process like fly-bys. A forest can contain multiple istinct trees ending in halo with no descendendent. AHF can use forest but not with distinct trees"
   ]
  },
  {
   "cell_type": "markdown",
   "id": "b88a3852-1492-4978-820e-f5134f861e1d",
   "metadata": {
    "tags": []
   },
   "source": [
    "# Accessing ancestor and descendent"
   ]
  },
  {
   "cell_type": "code",
   "execution_count": 15,
   "id": "9e36dd06-a74a-49ea-93d0-d7c578e365fa",
   "metadata": {
    "tags": []
   },
   "outputs": [
    {
     "name": "stdout",
     "output_type": "stream",
     "text": [
      "[TreeNode[361]]\n",
      "TreeNode[0]\n"
     ]
    }
   ],
   "source": [
    "my_ancestors = list(my_tree.ancestors)\n",
    "print(my_ancestors)\n",
    "print(my_ancestors[0].descendent)"
   ]
  },
  {
   "cell_type": "markdown",
   "id": "7eb188a4-0724-4164-b5d4-1ce8feb9a067",
   "metadata": {},
   "source": [
    "# Accessing the progenitor lineage in tree"
   ]
  },
  {
   "cell_type": "code",
   "execution_count": 16,
   "id": "6a2c3626-ab14-4600-b7f1-359e99cb103b",
   "metadata": {
    "tags": []
   },
   "outputs": [
    {
     "data": {
      "text/plain": [
       "unyt_quantity(3.30816e+13, 'Msun/h')"
      ]
     },
     "execution_count": 16,
     "metadata": {},
     "output_type": "execute_result"
    }
   ],
   "source": [
    "my_tree['mass']"
   ]
  },
  {
   "cell_type": "code",
   "execution_count": 17,
   "id": "03aa4c50-9411-4a8c-9177-9adb197119ef",
   "metadata": {
    "tags": []
   },
   "outputs": [
    {
     "name": "stdout",
     "output_type": "stream",
     "text": [
      "[TreeNode[0], TreeNode[361], TreeNode[725], TreeNode[1093], TreeNode[1467], TreeNode[1843], TreeNode[2229], TreeNode[2615], TreeNode[3002], TreeNode[3387], TreeNode[3775], TreeNode[4178], TreeNode[4578], TreeNode[4987], TreeNode[5392], TreeNode[5794], TreeNode[6208], TreeNode[6623], TreeNode[7041], TreeNode[7460], TreeNode[7878], TreeNode[8298], TreeNode[8724], TreeNode[9155], TreeNode[9590], TreeNode[10026], TreeNode[10461], TreeNode[10890], TreeNode[11320], TreeNode[11754], TreeNode[12192], TreeNode[12633], TreeNode[13074], TreeNode[13502], TreeNode[13940], TreeNode[14372], TreeNode[14804], TreeNode[15226], TreeNode[15650], TreeNode[16076], TreeNode[16504], TreeNode[16921], TreeNode[17342], TreeNode[17755], TreeNode[18165], TreeNode[18569], TreeNode[18975], TreeNode[19380], TreeNode[19776], TreeNode[20173], TreeNode[20559], TreeNode[20950], TreeNode[21338], TreeNode[21712], TreeNode[22090], TreeNode[22457], TreeNode[22816], TreeNode[23172], TreeNode[23524], TreeNode[23878], TreeNode[24218], TreeNode[24564], TreeNode[24895], TreeNode[25209], TreeNode[25522], TreeNode[25818], TreeNode[26108], TreeNode[26372], TreeNode[26627], TreeNode[26873], TreeNode[27090], TreeNode[27306], TreeNode[27504], TreeNode[27693], TreeNode[27863], TreeNode[28026], TreeNode[28173], TreeNode[28309], TreeNode[28436], TreeNode[28557], TreeNode[28668], TreeNode[28773], TreeNode[28868], TreeNode[28951], TreeNode[29026], TreeNode[29094], TreeNode[29157], TreeNode[29209], TreeNode[29253], TreeNode[29294], TreeNode[29331], TreeNode[29366], TreeNode[29398], TreeNode[29426], TreeNode[29452], TreeNode[29475], TreeNode[29498], TreeNode[29516], TreeNode[29534], TreeNode[29549], TreeNode[29563], TreeNode[29575], TreeNode[29588], TreeNode[29599], TreeNode[29611], TreeNode[29625], TreeNode[29635], TreeNode[29643], TreeNode[29650], TreeNode[29659], TreeNode[29666], TreeNode[29670], TreeNode[29676], TreeNode[29681]]\n"
     ]
    }
   ],
   "source": [
    "print(list(my_tree['prog']))"
   ]
  },
  {
   "cell_type": "code",
   "execution_count": 18,
   "id": "ba04a3b4-dede-4da0-b547-e97b7ba9d6b4",
   "metadata": {
    "tags": []
   },
   "outputs": [
    {
     "name": "stdout",
     "output_type": "stream",
     "text": [
      "[3.30816e+13 3.29169e+13 3.26260e+13 3.10758e+13 3.10692e+13 3.08193e+13\n",
      " 3.02786e+13 2.95488e+13 2.90501e+13 2.86288e+13 2.81865e+13 2.77353e+13\n",
      " 2.76093e+13 2.64085e+13 2.59872e+13 2.47310e+13 2.43075e+13 2.39570e+13\n",
      " 2.36142e+13 2.31078e+13 2.30337e+13 2.25970e+13 2.16361e+13 2.12325e+13\n",
      " 2.00537e+13 1.95971e+13 1.94124e+13 1.96280e+13 1.99708e+13 2.05359e+13\n",
      " 1.92842e+13 2.00571e+13 1.93549e+13 1.90077e+13 1.81132e+13 1.66879e+13\n",
      " 1.51664e+13 9.89197e+12 6.98498e+12 5.97875e+12 5.76755e+12 5.16824e+12\n",
      " 4.72926e+12 3.74404e+12 3.68212e+12 3.57487e+12 3.48198e+12 3.36477e+12\n",
      " 3.26858e+12 3.17901e+12 3.08502e+12 2.95454e+12 2.84839e+12 2.66816e+12\n",
      " 2.04894e+12 2.00692e+12 1.96048e+12 1.89745e+12 1.83664e+12 1.77582e+12\n",
      " 1.72717e+12 1.48391e+12 1.85765e+12 1.80125e+12 1.72606e+12 1.66857e+12\n",
      " 1.63760e+12 1.58232e+12 1.51487e+12 1.41314e+12 1.37112e+12 1.32579e+12\n",
      " 1.27271e+12 1.15550e+12 1.12122e+12 1.08252e+12 1.03940e+12 1.01507e+12\n",
      " 9.78582e+11 9.36564e+11 9.01180e+11 8.43682e+11 8.09404e+11 7.56328e+11\n",
      " 7.16521e+11 6.82243e+11 6.40225e+11 6.07053e+11 5.53977e+11 5.03113e+11\n",
      " 3.46097e+11 3.11819e+11 2.43263e+11 2.33312e+11 2.08985e+11 1.89082e+11\n",
      " 1.68073e+11 1.52592e+11 1.39324e+11 1.34901e+11 1.20526e+11 1.11680e+11\n",
      " 1.06151e+11 1.00623e+11 9.61996e+10 7.29790e+10 7.07675e+10 6.63446e+10\n",
      " 6.41331e+10 5.86044e+10 5.52871e+10 5.19699e+10 4.53354e+10 4.42297e+10] Msun/h\n"
     ]
    }
   ],
   "source": [
    "print(my_tree['prog', 'mass'])"
   ]
  },
  {
   "cell_type": "markdown",
   "id": "4305f14a-cd7e-4a35-9e5f-f1ff0ef05d54",
   "metadata": {},
   "source": [
    "progenitor lists and fields can be accessed fo any halo in the tree"
   ]
  },
  {
   "cell_type": "code",
   "execution_count": 19,
   "id": "f0488266-9a99-4900-81a0-bae13b2b56ff",
   "metadata": {
    "tags": []
   },
   "outputs": [
    {
     "name": "stdout",
     "output_type": "stream",
     "text": [
      "[TreeNode[17342], TreeNode[17755], TreeNode[18165], TreeNode[18569], TreeNode[18975], TreeNode[19380], TreeNode[19776], TreeNode[20173], TreeNode[20559], TreeNode[20950], TreeNode[21338], TreeNode[21712], TreeNode[22090], TreeNode[22457], TreeNode[22816], TreeNode[23172], TreeNode[23524], TreeNode[23878], TreeNode[24218], TreeNode[24564], TreeNode[24895], TreeNode[25209], TreeNode[25522], TreeNode[25818], TreeNode[26108], TreeNode[26372], TreeNode[26627], TreeNode[26873], TreeNode[27090], TreeNode[27306], TreeNode[27504], TreeNode[27693], TreeNode[27863], TreeNode[28026], TreeNode[28173], TreeNode[28309], TreeNode[28436], TreeNode[28557], TreeNode[28668], TreeNode[28773], TreeNode[28868], TreeNode[28951], TreeNode[29026], TreeNode[29094], TreeNode[29157], TreeNode[29209], TreeNode[29253], TreeNode[29294], TreeNode[29331], TreeNode[29366], TreeNode[29398], TreeNode[29426], TreeNode[29452], TreeNode[29475], TreeNode[29498], TreeNode[29516], TreeNode[29534], TreeNode[29549], TreeNode[29563], TreeNode[29575], TreeNode[29588], TreeNode[29599], TreeNode[29611], TreeNode[29625], TreeNode[29635], TreeNode[29643], TreeNode[29650], TreeNode[29659], TreeNode[29666], TreeNode[29670], TreeNode[29676], TreeNode[29681]]\n",
      "[391.24 362.81 361.65 358.61 356.05 352.62 349.74 347.38 344.01 340.05\n",
      " 336.46 328.97 301.65 300.09 297.88 295.06 291.88 289.29 288.01 273.\n",
      " 294.71 291.8  287.87 284.74 283.4  281.03 276.93 270.38 268.06 265.19\n",
      " 261.57 254.   251.43 248.59 245.66 243.32 240.87 237.56 236.37 229.9\n",
      " 226.06 221.25 218.05 214.19 209.03 205.38 199.67 193.   170.64 164.46\n",
      " 152.67 150.64 143.92 139.85 134.56 129.72 128.89 128.62 120.79 116.84\n",
      " 116.   114.05 111.47 102.02 107.79  98.7   98.79  95.29  94.06  95.22\n",
      "  87.78  92.59] kpc/h\n"
     ]
    }
   ],
   "source": [
    "tree_nodes = list(my_tree['tree'])\n",
    "#pick an halo\n",
    "my_halo = tree_nodes[42]\n",
    "print(list(my_halo['prog']))\n",
    "print(my_halo['prog', 'virial_radius'])"
   ]
  },
  {
   "cell_type": "markdown",
   "id": "596f7ac4-8ea5-4d59-a0b3-2614f499d23f",
   "metadata": {
    "tags": []
   },
   "source": [
    "# customize the progenitor line\n",
    "The progenitor line is defined by the default as the line of the most massive ancestor, but this can be canged"
   ]
  },
  {
   "cell_type": "code",
   "execution_count": 20,
   "id": "37f20659-b897-4fa1-b98e-4d3d215f6e5d",
   "metadata": {
    "tags": []
   },
   "outputs": [
    {
     "name": "stdout",
     "output_type": "stream",
     "text": [
      "[TreeNode[0], TreeNode[361], TreeNode[725], TreeNode[1093], TreeNode[1467], TreeNode[1843], TreeNode[2229], TreeNode[2615], TreeNode[3002], TreeNode[3387], TreeNode[3775], TreeNode[4178], TreeNode[4578], TreeNode[4987], TreeNode[5392], TreeNode[5794], TreeNode[6208], TreeNode[6623], TreeNode[7041], TreeNode[7460], TreeNode[7878], TreeNode[8298], TreeNode[8724], TreeNode[9155], TreeNode[9590], TreeNode[10026], TreeNode[10461], TreeNode[10890], TreeNode[11320], TreeNode[11754], TreeNode[12192], TreeNode[12633], TreeNode[13074], TreeNode[13502], TreeNode[13940], TreeNode[14372], TreeNode[14804], TreeNode[15226], TreeNode[15650], TreeNode[16076], TreeNode[16504], TreeNode[16921], TreeNode[17342], TreeNode[17755], TreeNode[18165], TreeNode[18569], TreeNode[18975], TreeNode[19380], TreeNode[19776], TreeNode[20173], TreeNode[20559], TreeNode[20950], TreeNode[21338], TreeNode[21712], TreeNode[22090], TreeNode[22457], TreeNode[22816], TreeNode[23172], TreeNode[23524], TreeNode[23878], TreeNode[24218], TreeNode[24564], TreeNode[24895], TreeNode[25209], TreeNode[25522], TreeNode[25818], TreeNode[26108], TreeNode[26372], TreeNode[26627], TreeNode[26873], TreeNode[27090], TreeNode[27306], TreeNode[27504], TreeNode[27693], TreeNode[27863], TreeNode[28026], TreeNode[28173], TreeNode[28309], TreeNode[28436], TreeNode[28557], TreeNode[28668], TreeNode[28773], TreeNode[28868], TreeNode[28951], TreeNode[29026], TreeNode[29094], TreeNode[29157], TreeNode[29209], TreeNode[29253], TreeNode[29294], TreeNode[29331], TreeNode[29366], TreeNode[29398], TreeNode[29426], TreeNode[29452], TreeNode[29475], TreeNode[29498], TreeNode[29516], TreeNode[29534], TreeNode[29549], TreeNode[29563], TreeNode[29575], TreeNode[29588], TreeNode[29599], TreeNode[29611], TreeNode[29625], TreeNode[29635], TreeNode[29643], TreeNode[29650], TreeNode[29659], TreeNode[29666], TreeNode[29670], TreeNode[29676], TreeNode[29681]]\n"
     ]
    }
   ],
   "source": [
    "print(list(my_tree['prog']))"
   ]
  },
  {
   "cell_type": "code",
   "execution_count": 21,
   "id": "cea1b0b6-7766-4f80-ad9d-1bd4200ce0fb",
   "metadata": {
    "tags": []
   },
   "outputs": [
    {
     "name": "stdout",
     "output_type": "stream",
     "text": [
      "[TreeNode[0], TreeNode[361], TreeNode[725], TreeNode[1093], TreeNode[1467], TreeNode[1843], TreeNode[2229], TreeNode[2615], TreeNode[3002], TreeNode[3387], TreeNode[3775], TreeNode[4178], TreeNode[4578], TreeNode[4987], TreeNode[5392], TreeNode[5794], TreeNode[6208], TreeNode[6623], TreeNode[7041], TreeNode[7460], TreeNode[7878], TreeNode[8298], TreeNode[8724], TreeNode[9155], TreeNode[9590], TreeNode[10130], TreeNode[10563], TreeNode[10991], TreeNode[11421], TreeNode[11851], TreeNode[12288], TreeNode[12641], TreeNode[13082], TreeNode[13511], TreeNode[13948], TreeNode[14378], TreeNode[15219]]\n"
     ]
    }
   ],
   "source": [
    "a.set_selector('min_field_value', 'virial_radius')\n",
    "print(list(my_tree['prog']))"
   ]
  },
  {
   "cell_type": "code",
   "execution_count": 22,
   "id": "80d844ce-1740-418e-a493-2c6978469999",
   "metadata": {
    "tags": []
   },
   "outputs": [],
   "source": [
    "a.set_selector('min_field_value', 'mass')"
   ]
  },
  {
   "cell_type": "markdown",
   "id": "d5fb0c47-c072-49e4-8dc4-f062514270a5",
   "metadata": {},
   "source": [
    "# Accessing the leaf of a Tree\n",
    "the leaf of a tree are the nodes with no ancestors/ THere are the very first halos to form. This can be useful for semi-anallytical models or any framework where you want to start at the origins of a halo and work forward in time. "
   ]
  },
  {
   "cell_type": "code",
   "execution_count": 23,
   "id": "b6949a72-3db1-467c-8b62-8e8ce3fb98bd",
   "metadata": {
    "tags": []
   },
   "outputs": [
    {
     "name": "stdout",
     "output_type": "stream",
     "text": [
      "TreeNode[29681]\n",
      "TreeNode[28662]\n",
      "TreeNode[26592]\n",
      "TreeNode[26832]\n",
      "TreeNode[24077]\n",
      "TreeNode[20203]\n",
      "TreeNode[27717]\n",
      "TreeNode[26796]\n",
      "TreeNode[13507]\n",
      "TreeNode[25213]\n",
      "TreeNode[26616]\n",
      "TreeNode[24635]\n",
      "TreeNode[19724]\n",
      "TreeNode[12639]\n",
      "TreeNode[22313]\n",
      "TreeNode[14723]\n",
      "TreeNode[12379]\n",
      "TreeNode[29449]\n",
      "TreeNode[28354]\n",
      "TreeNode[28289]\n",
      "TreeNode[27583]\n",
      "TreeNode[24182]\n",
      "TreeNode[25517]\n",
      "TreeNode[22779]\n",
      "TreeNode[21228]\n",
      "TreeNode[15219]\n",
      "TreeNode[17314]\n"
     ]
    }
   ],
   "source": [
    "my_tree = a[0]\n",
    "my_leaves = my_tree.get_leaf_nodes(selector='forest')\n",
    "for my_leaf in my_leaves:\n",
    "    print(my_leaf)"
   ]
  },
  {
   "cell_type": "markdown",
   "id": "30b041e5-c05b-4dd8-a2ec-24127a1d7038",
   "metadata": {},
   "source": [
    "# Accessing the root nodes of a forest\n",
    "A forset can have multiple root node, nodes that have no descendent "
   ]
  },
  {
   "cell_type": "code",
   "execution_count": 24,
   "id": "92085b70-9735-45e6-8263-aea3faac7482",
   "metadata": {
    "tags": []
   },
   "outputs": [
    {
     "name": "stdout",
     "output_type": "stream",
     "text": [
      "TreeNode[0]\n"
     ]
    }
   ],
   "source": [
    "my_tree = a[0]\n",
    "my_roots = my_tree.get_root_nodes()\n",
    "for my_root in my_roots:\n",
    "    print(my_root)"
   ]
  },
  {
   "cell_type": "markdown",
   "id": "39c6fae2-88f6-4134-831d-b59afa88492d",
   "metadata": {},
   "source": [
    "# Searching trough merger trees (accesing like a database)\n",
    "There are a couple of different ways to search through a merger tree dataset to find halos meeting various criteria, similar to the type of selectino done with a relational databse. "
   ]
  },
  {
   "cell_type": "code",
   "execution_count": 25,
   "id": "c9e873c9-2b91-4497-a30d-9f49338d65f4",
   "metadata": {
    "tags": []
   },
   "outputs": [
    {
     "name": "stderr",
     "output_type": "stream",
     "text": [
      "Selecting halos (found 5569): 100%|███████████████████████████████████████████████| 1937/1937 [00:01<00:00, 1622.38it/s]\n"
     ]
    }
   ],
   "source": [
    "halos = list(a.select_halos(\"tree['forest', 'mass'].to('Msun') > 5e11\"))"
   ]
  },
  {
   "cell_type": "markdown",
   "id": "07de89f2-a870-48fc-ad6d-8365ffcb76f1",
   "metadata": {
    "tags": []
   },
   "source": [
    "# Creating the Selection\n",
    "it is also possible to use the get_yt_selection to access more functionality thant select_halos"
   ]
  },
  {
   "cell_type": "code",
   "execution_count": 27,
   "id": "ed0b9d95-d7a3-47a0-9bbf-d63677f9fdaf",
   "metadata": {
    "tags": []
   },
   "outputs": [],
   "source": [
    "#dosen't work on AHF\n",
    "# a = ytree.load('../data/y_tree_data/ahf_halos/snap_N64L16_000.parameter')\n",
    "# selection = a.get_yt_selection(above=[('mass', 1e13, 'Msun'), ('redshift', 0.5)])"
   ]
  },
  {
   "cell_type": "markdown",
   "id": "c1f54a4e-108b-4360-848f-6fb44b458649",
   "metadata": {},
   "source": [
    "# Fields in ytree"
   ]
  },
  {
   "cell_type": "code",
   "execution_count": 28,
   "id": "c6ee1ed5-ded4-49ec-8b0f-00ee0429242d",
   "metadata": {
    "tags": []
   },
   "outputs": [
    {
     "name": "stdout",
     "output_type": "stream",
     "text": [
      "{'column': 11, 'file': 'halos', 'units': 'kpc/h', 'aliases': ['virial_radius']}\n"
     ]
    }
   ],
   "source": [
    "a = ytree.load('../data/y_tree_data/ahf_halos/snap_N64L16_000.parameter')\n",
    "print(a.field_info['Rvir'])"
   ]
  },
  {
   "cell_type": "markdown",
   "id": "089a0bb5-124a-4e82-b242-5971209c0723",
   "metadata": {},
   "source": [
    "# Vector fields\n",
    "Same query return array (X,Y,Z), like position\n"
   ]
  },
  {
   "cell_type": "code",
   "execution_count": 29,
   "id": "7af1a193-14c8-42a7-ae67-e94fec5ed72d",
   "metadata": {
    "tags": []
   },
   "outputs": [
    {
     "name": "stderr",
     "output_type": "stream",
     "text": [
      "Planting trees: 100%|████████████████████████████████████████████████████████████████| 136/136 [00:00<00:00, 180.65it/s]\n",
      "Reading root fields: 100%|███████████████████████████████████████████████████████| 1937/1937 [00:00<00:00, 20448.28it/s]\n"
     ]
    },
    {
     "data": {
      "text/plain": [
       "unyt_array([[ 1074.68406434, 14706.65958243,  2873.57221797],\n",
       "            [10412.59981308,  1954.11803099,  4829.66218015],\n",
       "            [10712.35860545,  8667.63439357,  2081.02718618],\n",
       "            ...,\n",
       "            [ 9461.45966649,  1616.47865176,  5654.02594209],\n",
       "            [ 9346.53718655,   791.31326538,  5789.57480651],\n",
       "            [ 9353.52271398,   782.33807782,  5806.84054693]], 'kpc/h')"
      ]
     },
     "execution_count": 29,
     "metadata": {},
     "output_type": "execute_result"
    }
   ],
   "source": [
    "a['position']"
   ]
  },
  {
   "cell_type": "markdown",
   "id": "943768b4-5302-45e2-9c1d-02a7bc04d2ea",
   "metadata": {},
   "source": [
    "# Analysis Tree\n",
    "fields containig information from all sorts of complicated analysis for any halo in the harbor "
   ]
  },
  {
   "cell_type": "markdown",
   "id": "0c7939c9-6954-4398-a903-8ff0f1d7102d",
   "metadata": {},
   "source": [
    "# Plot merger tree"
   ]
  },
  {
   "cell_type": "code",
   "execution_count": 30,
   "id": "ee745061-e0b3-42b1-95da-93f561b78c9c",
   "metadata": {
    "tags": []
   },
   "outputs": [
    {
     "data": {
      "image/png": "[encoded data removed]",
      "text/plain": [
       "<PIL.PngImagePlugin.PngImageFile image mode=RGB size=1152x100>"
      ]
     },
     "metadata": {},
     "output_type": "display_data"
    }
   ],
   "source": [
    "p = ytree.TreePlot(a[0], dot_kwargs={'rankdir': 'LR', 'size': '\"12,4\"'})\n",
    "p.save('tree_0.png')\n",
    "\n",
    "#display the image\n",
    "im = Image.open('tree_0.png')\n",
    "display(im)"
   ]
  },
  {
   "cell_type": "code",
   "execution_count": 31,
   "id": "8988e687-dc0d-4ab7-a251-3e3af9421800",
   "metadata": {},
   "outputs": [
    {
     "data": {
      "image/png": "[encoded data removed]",
      "text/plain": [
       "<PIL.PngImagePlugin.PngImageFile image mode=RGB size=1152x96>"
      ]
     },
     "metadata": {},
     "output_type": "display_data"
    }
   ],
   "source": [
    "p = ytree.TreePlot(a[1], dot_kwargs={'rankdir': 'LR', 'size': '\"12,4\"'})\n",
    "p.save('tree_1.png')\n",
    "\n",
    "#display the image\n",
    "im = Image.open('tree_1.png')\n",
    "display(im)"
   ]
  },
  {
   "cell_type": "markdown",
   "id": "919bdcb3-e0ca-4547-95e1-a2896a2d02d6",
   "metadata": {
    "tags": []
   },
   "source": [
    "# Analyzing Merger Tree (pipelines)\n",
    "it is going to take the following form\n",
    "\n",
    "```\n",
    "for tree in trees:\n",
    "    for node in tree[\"forest\"]:\n",
    "        ap.process_target(node)\n",
    "```\n",
    "\n",
    "it dosen't have any other input except the final directory"
   ]
  },
  {
   "cell_type": "markdown",
   "id": "0aee1cb5-9248-4f16-90bd-de60d6e4d9ad",
   "metadata": {
    "tags": []
   },
   "source": [
    "we can use the fanction ```add_operation(func)``` to ad the funciton func to the analysis pipeline. In order to continue the analysis even when the functions return ```True/False``` it is possible to use the ```always_do=True``` like: ```ap.add_operation(func,..., always_do=True)```"
   ]
  },
  {
   "cell_type": "markdown",
   "id": "5c0d3db5-18ce-4245-afef-8476cd708918",
   "metadata": {},
   "source": [
    "### Modifing a node\n",
    "There may be occasions where you want to pass local variables or objects around from one function to the next. The easiest way to do this is by attaching them to the TreeNode object itself as an attribute."
   ]
  },
  {
   "cell_type": "raw",
   "id": "58579181-0bad-41a1-8576-1758fbe724eb",
   "metadata": {},
   "source": [
    "def get_yt_dataset(node):\n",
    "    # assume you have something like this\n",
    "    filename = get_filename_from_redshift(node[\"redshift\"])\n",
    "    # attach it to the node for later use\n",
    "    node.ds = yt.load(filename)\n",
    "\n",
    "def get_yt_sphere(node):\n",
    "    # this works if get_yt_dataset has been called first\n",
    "    ds = node.ds\n",
    "\n",
    "    center = node[\"position\"].to(\"unitary\")\n",
    "    radius = node[\"virial_radius\"].to(\"unitary\")\n",
    "    node.sphere = ds.sphere((center, \"unitary\"), (radius, \"unitary\"))"
   ]
  },
  {
   "cell_type": "markdown",
   "id": "d1619a4e-a205-4277-8a2f-b67ae2bd7ee7",
   "metadata": {
    "tags": []
   },
   "source": [
    "### Creating a Analysis Recipe\n",
    "Using the .add_operation dosen't result in fewer lines of code, but we can reuse them in later pipelines. It is also possible to define a ```recipe```, which can take as input a AnalysisPipeline or more, adding more structure, as follow:"
   ]
  },
  {
   "cell_type": "raw",
   "id": "d85e2130-779b-434d-ac6b-0dec0e5ac5a4",
   "metadata": {},
   "source": [
    "def calculate_gas_mass(node):\n",
    "    sphere = node.sphere\n",
    "    node[\"gas_mass\"] = sphere.quantities.total_quantity((\"gas\", \"mass\"))\n",
    "\n",
    "def gas_mass_recipe(pipeline):\n",
    "    pipeline.add_operation(get_yt_dataset)\n",
    "    pipeline.add_operation(get_yt_sphere)\n",
    "    pipeline.add_operation(calculate_gas_mass)\n",
    "    pipeline.add_operation(delete_attributes, [\"ds\", \"sphere\"])\n",
    "    \n",
    "#Then we can add the recipe to the pipeline like this    \n",
    "ap = ytree.AnalysisPipeline()\n",
    "ap.add_recipe(gas_mass_recipe)"
   ]
  },
  {
   "cell_type": "markdown",
   "id": "a2b3dbfa-f269-4bb2-bf5e-5f6f16da1eb5",
   "metadata": {},
   "source": [
    "### Parallel analysis\n",
    "We can run pipeline in parallel using parallel iterator:"
   ]
  },
  {
   "cell_type": "raw",
   "id": "ac40db21-e0a9-4926-bb20-80326a3ae054",
   "metadata": {},
   "source": [
    "import ytree\n",
    "\n",
    "a = ytree.load(\"arbor/arbor.h5\")\n",
    "if \"test_field\" not in a.field_list:\n",
    "    a.add_analysis_field(\"gas_mass\", default=-1, units=\"Msun\")\n",
    "\n",
    "ap = ytree.AnalysisPipeline()\n",
    "ap.add_recipe(gas_mass_recipe)\n",
    "\n",
    "trees = list(a[:])\n",
    "for node in ytree.parallel_nodes(trees):\n",
    "    ap.process_target(node)"
   ]
  }
 ],
 "metadata": {
  "kernelspec": {
   "display_name": "Python (torch)",
   "language": "python",
   "name": "torch"
  },
  "language_info": {
   "codemirror_mode": {
    "name": "ipython",
    "version": 3
   },
   "file_extension": ".py",
   "mimetype": "text/x-python",
   "name": "python",
   "nbconvert_exporter": "python",
   "pygments_lexer": "ipython3",
   "version": "3.10.13"
  }
 },
 "nbformat": 4,
 "nbformat_minor": 5
}
