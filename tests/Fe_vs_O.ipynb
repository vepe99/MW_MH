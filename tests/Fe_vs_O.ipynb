{
 "cells": [
  {
   "cell_type": "code",
   "execution_count": 1,
   "id": "042c8ba9-ef64-4d72-be20-15963d59219c",
   "metadata": {
    "tags": []
   },
   "outputs": [],
   "source": [
    "import numpy as np\n",
    "import pandas as pd\n",
    "import matplotlib.pyplot as plt\n",
    "import matplotlib.gridspec as gridspec\n",
    "import matplotlib\n",
    "import seaborn as sns\n",
    "import pynbody as pb"
   ]
  },
  {
   "cell_type": "markdown",
   "id": "47c37c68-360a-4ca0-9e18-aa28e0bb1561",
   "metadata": {
    "jp-MarkdownHeadingCollapsed": true,
    "tags": []
   },
   "source": [
    "# g8.26e11"
   ]
  },
  {
   "cell_type": "code",
   "execution_count": null,
   "id": "230497b5-80b8-42ec-a191-2128e51d0fd2",
   "metadata": {
    "tags": []
   },
   "outputs": [],
   "source": [
    "s = pb.load('./data/g8.26e11/snap_2000/output/8.26e11.02000')\n",
    "s.physical_units()\n",
    "h = s.halos()"
   ]
  },
  {
   "cell_type": "markdown",
   "id": "62fa9307-5ca1-40d2-84a1-754a3e920a6b",
   "metadata": {
    "jp-MarkdownHeadingCollapsed": true,
    "tags": []
   },
   "source": [
    "## Fe/H vs O/Fe"
   ]
  },
  {
   "cell_type": "code",
   "execution_count": null,
   "id": "96aa378f-6b18-4c43-bf68-d1548d3f42ce",
   "metadata": {
    "tags": []
   },
   "outputs": [],
   "source": [
    "#let's begin by centering it \n",
    "pb.analysis.angmom.faceon(h[1])\n",
    "\n",
    "#create and apply the filter\n",
    "disk_filt = pb.filt.LowPass('r', '100.00 kpc')\n",
    "s_filt = s[disk_filt]"
   ]
  },
  {
   "cell_type": "code",
   "execution_count": null,
   "id": "1103f522-b4e1-4e7a-a661-545d5cdca7cb",
   "metadata": {
    "tags": []
   },
   "outputs": [],
   "source": [
    "feh = s_filt.s['feh']\n",
    "ofe = s_filt.s['ofe']"
   ]
  },
  {
   "cell_type": "code",
   "execution_count": null,
   "id": "3140bb70-c3a3-4b76-b1b1-aeaa695bb248",
   "metadata": {
    "tags": []
   },
   "outputs": [],
   "source": [
    "ofe.max()"
   ]
  },
  {
   "cell_type": "code",
   "execution_count": null,
   "id": "ec9fa30f-e198-4ac8-9866-fc4919f16510",
   "metadata": {
    "tags": []
   },
   "outputs": [],
   "source": [
    "ofe_all = s.s['ofe']\n",
    "ofe_all.max()"
   ]
  },
  {
   "cell_type": "code",
   "execution_count": null,
   "id": "2bd7bfc5-1f88-4b09-bc01-c4258e23e898",
   "metadata": {
    "tags": []
   },
   "outputs": [],
   "source": [
    "plt.hist(ofe_all, bins='sqrt');"
   ]
  },
  {
   "cell_type": "code",
   "execution_count": null,
   "id": "676c9516-4cf9-4e37-bf93-d87ad16368b1",
   "metadata": {
    "tags": []
   },
   "outputs": [],
   "source": [
    "sns.kdeplot(ofe_all)"
   ]
  },
  {
   "cell_type": "markdown",
   "id": "564e045a-2261-451c-aab5-371603d9a738",
   "metadata": {},
   "source": [
    "# g7.55e11"
   ]
  },
  {
   "cell_type": "code",
   "execution_count": 2,
   "id": "8a26c485-ce80-4745-bbf1-67a1e18e6e34",
   "metadata": {
    "tags": []
   },
   "outputs": [
    {
     "data": {
      "text/plain": [
       "<pynbody.transformation.GenericRotation at 0x7f30f238a500>"
      ]
     },
     "execution_count": 2,
     "metadata": {},
     "output_type": "execute_result"
    }
   ],
   "source": [
    "s = pb.load('./data/g7.55e11/snap_1024/output/7.55e11.01024')\n",
    "s.physical_units()\n",
    "h = s.halos()\n",
    "pb.analysis.angmom.faceon(h[1])"
   ]
  },
  {
   "cell_type": "code",
   "execution_count": null,
   "id": "f934a3b1-b341-45cf-9d11-2bab2260faaa",
   "metadata": {
    "tags": []
   },
   "outputs": [],
   "source": [
    "ofe_all = s.s['ofe']\n",
    "\n",
    "plt.hist(ofe_all, 'sqrt');\n",
    "plt.xlabel('[O/Fe]')"
   ]
  },
  {
   "cell_type": "code",
   "execution_count": null,
   "id": "f466d19c-2806-4542-b2f4-340a0b88831f",
   "metadata": {},
   "outputs": [],
   "source": [
    "#create and apply the filter\n",
    "# disk_filt = pb.filt.LowPass('r', '30.00 kpc')\n",
    "disk_filt = pb.filt.SolarNeighborhood(r1=f'{0.00} kpc', r2=f'{3.00} kpc', height=f'{5} kpc', cen=(0, 0, 0)) \n",
    "s_filt = s[disk_filt]\n",
    "\n",
    "feh_disk = s_filt.s['feh']\n",
    "ofe_disk = s_filt.s['ofe']\n",
    "\n",
    "plt.hist(ofe_disk, 'sqrt')\n",
    "plt.xlabel('[O/Fe]')"
   ]
  },
  {
   "cell_type": "code",
   "execution_count": null,
   "id": "4aeb71d8-4e8b-4f97-b8bf-f29c9d560551",
   "metadata": {
    "tags": []
   },
   "outputs": [],
   "source": [
    "#let's take the 99.9 percentile \n",
    "percentile_feh = np.percentile(feh_disk, 0.01)\n",
    "percentile_ofe = np.percentile(ofe_disk, 0.01)\n",
    "print(percentile_feh)\n",
    "print(percentile_ofe)\n",
    "\n",
    "df = pd.DataFrame(data=(zip(feh_disk[feh_disk>percentile_feh], ofe_disk[ofe_disk>percentile_ofe])),\n",
    "                  columns= ['Fe/H', 'O/Fe'])\n"
   ]
  },
  {
   "cell_type": "code",
   "execution_count": null,
   "id": "4f412390-5ff3-406a-a406-231ebda19a3d",
   "metadata": {
    "tags": []
   },
   "outputs": [],
   "source": [
    "gs = gridspec.GridSpec(1, 2)\n",
    "\n",
    "plt.figure(figsize=(10, 4))\n",
    "ax = plt.subplot(gs[0]) \n",
    "plt.hist(df['Fe/H'], bins = 'sqrt', density=True)\n",
    "plt.xlabel('[Fe/H]')\n",
    "plt.grid(linestyle='dotted')\n",
    "\n",
    "ax = plt.subplot(gs[1])\n",
    "plt.hist(df['O/Fe'], density=True)\n",
    "plt.xlabel('[O/Fe]')\n",
    "plt.grid(linestyle='dotted')\n",
    "plt.show()\n",
    "\n",
    "plt.figure(figsize=(6, 3))\n",
    "plt.hist2d(df['Fe/H'], df['O/Fe'], bins=(1000, 1000), norm=matplotlib.colors.LogNorm())\n",
    "plt.colorbar(location='top', aspect=35)\n",
    "plt.grid(linestyle='dotted')\n",
    "plt.xlabel('[Fe/H]')\n",
    "plt.ylabel('[O/Fe]')\n",
    "plt.xlim(-0.6, 0.5)\n",
    "plt.show()"
   ]
  },
  {
   "cell_type": "code",
   "execution_count": null,
   "id": "6ca25eab-426f-401c-853c-83437fd1681a",
   "metadata": {
    "tags": []
   },
   "outputs": [],
   "source": [
    "r_interval = [[0.001, 3.0]]\n",
    "gs = gridspec.GridSpec(1, len(r_interval), wspace=0)\n",
    "disk_filt = pb.filt.SolarNeighborhood(r1=f'{r_interval[0][0]} kpc', r2=f'{r_interval[0][1]} kpc', height=f'{5} kpc', cen=(0, 0, 0)) \n",
    "feh = s[disk_filt].s['feh']\n",
    "ofe = s[disk_filt].s['ofe']\n",
    "\n",
    "feh_array = np.array(feh)\n",
    "ofe_array = np.array(ofe)\n",
    "#let's take the 99.9 percentile \n",
    "percentile_feh = np.percentile(feh_array, n_percentile)\n",
    "percentile_ofe = np.percentile(ofe_array, n_percentile)\n",
    "\n",
    "#dataFrame for easy access\n",
    "df = pd.DataFrame(data=( zip(feh_array[feh_array>percentile_feh], ofe_array[ofe_array>percentile_ofe]) ), \n",
    "                  columns= ['Fe/H', 'O/Fe'])\n",
    "#plotting\n",
    "ax = plt.subplot(gs[0])\n",
    "plt.hist2d(df['Fe/H'], df['O/Fe'], bins=(500, 500), norm=matplotlib.colors.LogNorm())\n",
    "plt.xlabel('[Fe/H]')\n",
    "plt.ylabel('[O/Fe]')\n",
    "plt.xlim(-0.8, 0.6)\n",
    "plt.ylim(-0.16, 0.058)\n",
    "x_ticks = ax.xaxis.get_major_ticks()\n",
    "x_ticks[-1].label1.set_visible(False)\n",
    "plt.colorbar(location='top', shrink=0.9)\n",
    "plt.text(x = -0.2, y = 0.04, s=rf'{r1} < R < {r2} kpc')\n"
   ]
  },
  {
   "cell_type": "code",
   "execution_count": null,
   "id": "1c4856b7-fe30-4111-91d0-5139ee5ba449",
   "metadata": {},
   "outputs": [],
   "source": []
  }
 ],
 "metadata": {
  "kernelspec": {
   "display_name": "Python 3 (ipykernel)",
   "language": "python",
   "name": "python3"
  },
  "language_info": {
   "codemirror_mode": {
    "name": "ipython",
    "version": 3
   },
   "file_extension": ".py",
   "mimetype": "text/x-python",
   "name": "python",
   "nbconvert_exporter": "python",
   "pygments_lexer": "ipython3",
   "version": "3.10.11"
  }
 },
 "nbformat": 4,
 "nbformat_minor": 5
}
