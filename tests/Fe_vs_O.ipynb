{
 "cells": [
  {
   "cell_type": "code",
   "execution_count": 1,
   "id": "042c8ba9-ef64-4d72-be20-15963d59219c",
   "metadata": {
    "tags": []
   },
   "outputs": [],
   "source": [
    "import numpy as np\n",
    "import pandas as pd\n",
    "import matplotlib.pyplot as plt\n",
    "import matplotlib\n",
    "import seaborn as sns\n",
    "import pynbody"
   ]
  },
  {
   "cell_type": "code",
   "execution_count": 3,
   "id": "230497b5-80b8-42ec-a191-2128e51d0fd2",
   "metadata": {
    "tags": []
   },
   "outputs": [],
   "source": [
    "s = pynbody.load('./data/g8.26e11/snap_2000/output/8.26e11.02000')\n",
    "s.physical_units()\n",
    "h = s.halos()"
   ]
  },
  {
   "cell_type": "markdown",
   "id": "62fa9307-5ca1-40d2-84a1-754a3e920a6b",
   "metadata": {},
   "source": [
    "# Fe/H vs O/Fe\n"
   ]
  },
  {
   "cell_type": "code",
   "execution_count": 13,
   "id": "96aa378f-6b18-4c43-bf68-d1548d3f42ce",
   "metadata": {
    "tags": []
   },
   "outputs": [],
   "source": [
    "#let's begin by centering it \n",
    "pynbody.analysis.angmom.faceon(h[1])\n",
    "\n",
    "#create and apply the filter\n",
    "disk_filt = pynbody.filt.LowPass('r', '100.00 kpc')\n",
    "s_filt = s[disk_filt]"
   ]
  },
  {
   "cell_type": "code",
   "execution_count": 14,
   "id": "1103f522-b4e1-4e7a-a661-545d5cdca7cb",
   "metadata": {
    "tags": []
   },
   "outputs": [],
   "source": [
    "feh = s_filt.s['feh']\n",
    "ofe = s_filt.s['ofe']"
   ]
  },
  {
   "cell_type": "code",
   "execution_count": 15,
   "id": "3140bb70-c3a3-4b76-b1b1-aeaa695bb248",
   "metadata": {
    "tags": []
   },
   "outputs": [
    {
     "data": {
      "text/plain": [
       "SimArray(0.26408833, dtype=float32, '1.00e+00')"
      ]
     },
     "execution_count": 15,
     "metadata": {},
     "output_type": "execute_result"
    }
   ],
   "source": [
    "ofe.max()"
   ]
  },
  {
   "cell_type": "code",
   "execution_count": 12,
   "id": "ec9fa30f-e198-4ac8-9866-fc4919f16510",
   "metadata": {
    "tags": []
   },
   "outputs": [
    {
     "data": {
      "text/plain": [
       "SimArray(0.5191824, dtype=float32, '1.00e+00')"
      ]
     },
     "execution_count": 12,
     "metadata": {},
     "output_type": "execute_result"
    }
   ],
   "source": [
    "ofe_all = s.s['ofe']\n",
    "ofe_all.max()"
   ]
  },
  {
   "cell_type": "code",
   "execution_count": 23,
   "id": "676c9516-4cf9-4e37-bf93-d87ad16368b1",
   "metadata": {
    "tags": []
   },
   "outputs": [
    {
     "data": {
      "text/plain": [
       "<Axes: ylabel='Density'>"
      ]
     },
     "execution_count": 23,
     "metadata": {},
     "output_type": "execute_result"
    },
    {
     "data": {
      "image/png": "[encoded data removed]",
      "text/plain": [
       "<Figure size 640x480 with 1 Axes>"
      ]
     },
     "metadata": {},
     "output_type": "display_data"
    }
   ],
   "source": [
    "sns.kdeplot(ofe_all)"
   ]
  },
  {
   "cell_type": "code",
   "execution_count": null,
   "id": "39651906-9739-46af-aa38-e7da520e8f5b",
   "metadata": {},
   "outputs": [],
   "source": []
  }
 ],
 "metadata": {
  "kernelspec": {
   "display_name": "Python 3 (ipykernel)",
   "language": "python",
   "name": "python3"
  },
  "language_info": {
   "codemirror_mode": {
    "name": "ipython",
    "version": 3
   },
   "file_extension": ".py",
   "mimetype": "text/x-python",
   "name": "python",
   "nbconvert_exporter": "python",
   "pygments_lexer": "ipython3",
   "version": "3.10.11"
  }
 },
 "nbformat": 4,
 "nbformat_minor": 5
}
