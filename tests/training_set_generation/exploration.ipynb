{
 "cells": [
  {
   "cell_type": "code",
   "execution_count": 1,
   "metadata": {},
   "outputs": [],
   "source": [
    "import numpy as np\n",
    "import pandas as pd\n",
    "import matplotlib.pyplot as plt\n",
    "import matplotlib.colors as colors\n",
    "import scipy.stats as stats\n",
    "\n",
    "import pynbody as pb\n",
    "\n",
    "import glob\n",
    "import os\n",
    "import re\n",
    "from tqdm.notebook import tqdm"
   ]
  },
  {
   "cell_type": "markdown",
   "metadata": {},
   "source": [
    "# Glob + Regex to get the paths"
   ]
  },
  {
   "cell_type": "code",
   "execution_count": 2,
   "metadata": {},
   "outputs": [],
   "source": [
    "all_paths = glob.glob('/mnt/storage/_data/nihao/nihao_classic/g*/0*/*.*.*')\n",
    "# Regular expression to match files that end with 5 numbers and don't have a dot at the end\n",
    "\n",
    "regex = r'^.*\\d{5}$' #all the snapshots\n",
    "\n",
    "\n",
    "# Filter the list of files\n",
    "paths = [path for path in all_paths if re.match(regex, path)]\n"
   ]
  },
  {
   "cell_type": "markdown",
   "metadata": {},
   "source": [
    "# Pynbody extraction "
   ]
  },
  {
   "cell_type": "code",
   "execution_count": 32,
   "metadata": {},
   "outputs": [],
   "source": [
    "def extract_parameter_dictionary(path='str'):\n",
    "    \"\"\"\n",
    "    Extract the parameter from the path\n",
    "    \"\"\"\n",
    "    sim = pb.load(path)\n",
    "    sim.physical_units()\n",
    "    h = sim.halos(write_fpos=False)\n",
    "    pb.analysis.angmom.faceon(h[1])\n",
    "    if len(sim.s['mass']) > 0:\n",
    "        params = {'star_mass': sim.s['mass'].sum(),\n",
    "                'gas_mass': sim.g['mass'].sum(),\n",
    "                'dm_mass': sim.dm['mass'].sum(),\n",
    "                'infall_time': sim.properties['time'].in_units('Gyr'),\n",
    "                'redshift': sim.properties['z'],\n",
    "                'a':sim.properties['a'], \n",
    "                'chemical_mean':np.array([sim.s['metals'].mean(), sim.s['FeMassFrac'].mean(), sim.s['OxMassFrac'].mean()]),\n",
    "                'chemical_std':np.array([sim.s['metals'].std(), sim.s['FeMassFrac'].std(), sim.s['OxMassFrac'].std()])}\n",
    "        feh = sim.s['feh']\n",
    "        ofe = sim.s['ofe']\n",
    "        observable = {'feh': feh,\n",
    "                     'ofe': ofe}\n",
    "        return path, sim, params, observable\n",
    "    else:\n",
    "        print('Not formed stars yet')"
   ]
  },
  {
   "cell_type": "code",
   "execution_count": 72,
   "metadata": {},
   "outputs": [
    {
     "name": "stdout",
     "output_type": "stream",
     "text": [
      "Not formed stars yet\n"
     ]
    },
    {
     "ename": "TypeError",
     "evalue": "cannot unpack non-iterable NoneType object",
     "output_type": "error",
     "traceback": [
      "\u001b[0;31m---------------------------------------------------------------------------\u001b[0m",
      "\u001b[0;31mTypeError\u001b[0m                                 Traceback (most recent call last)",
      "Cell \u001b[0;32mIn[72], line 1\u001b[0m\n\u001b[0;32m----> 1\u001b[0m path, sim, params, observable   \u001b[38;5;241m=\u001b[39m extract_parameter_dictionary(paths[\u001b[38;5;241m192\u001b[39m])\n\u001b[1;32m      2\u001b[0m \u001b[38;5;28mprint\u001b[39m(path)\n\u001b[1;32m      4\u001b[0m fig \u001b[38;5;241m=\u001b[39m plt\u001b[38;5;241m.\u001b[39mfigure()\n",
      "\u001b[0;31mTypeError\u001b[0m: cannot unpack non-iterable NoneType object"
     ]
    }
   ],
   "source": [
    "path, sim, params, observable   = extract_parameter_dictionary(paths[192])\n",
    "print(path)\n",
    "\n",
    "fig = plt.figure()\n",
    "ax = fig.add_subplot(111)\n",
    "cax = ax.hist2d(observable['feh'], observable['ofe'], bins=(2000, 2000), norm=colors.LogNorm());\n",
    "fig.colorbar(cax[3], ax=ax)\n",
    "ax.set_xlabel('[Fe/H]')\n",
    "ax.set_ylabel('[O/Fe]')\n",
    "ax.set_xlim(-3.5, 0.5) \n",
    "ax.set_ylim(-1, 1.0);"
   ]
  },
  {
   "cell_type": "code",
   "execution_count": 76,
   "metadata": {},
   "outputs": [],
   "source": [
    "def extract_parameter_array(path='str'):\n",
    "    \"\"\"\n",
    "    Extract the parameter from the path\n",
    "    \"\"\"\n",
    "    sim = pb.load(path)\n",
    "    sim.physical_units()\n",
    "    h = sim.halos(write_fpos=False)\n",
    "    try:\n",
    "        regex = r'[^/]+$'\n",
    "        name_file = re.search(regex, path).group()\n",
    "        pb.analysis.angmom.faceon(h[1])\n",
    "    except:\n",
    "        np.savez(file='../../data/parameters/'+name_file+'_faceon_error.npz', emppty=np.array([0]))\n",
    "        np.savez(file='../../data/observables/'+name_file+'_faceon_error.npz', emppty=np.array([0]))\n",
    "    else:\n",
    "        if len(sim.s['mass']) > 0:\n",
    "\n",
    "            \n",
    "            name_parameter_file = '../../data/parameters/' + name_file + '_parameters.npz'\n",
    "            name_observable_file = '../../data/observables/' + name_file + '_observables.npz'\n",
    "\n",
    "            star_mass = sim.s['mass'].sum()\n",
    "            gas_mass = sim.g['mass'].sum()\n",
    "            dm_mass = sim.dm['mass'].sum()\n",
    "            infall_time = sim.properties['time'].in_units('Gyr')\n",
    "            redshift = sim.properties['z']\n",
    "            a = sim.properties['a'] \n",
    "            chemical_mean = np.array([sim.s['metals'].mean(), sim.s['FeMassFrac'].mean(), sim.s['OxMassFrac'].mean()])\n",
    "            chemical_std = np.array([sim.s['metals'].std(), sim.s['FeMassFrac'].std(), sim.s['OxMassFrac'].std()])\n",
    "\n",
    "            np.savez(file=name_parameter_file, star_mass=star_mass, gas_mass=gas_mass, dm_mass=dm_mass, infall_time=infall_time, redshift=redshift, a=a, chemical_mean=chemical_mean, chemical_std=chemical_std)\n",
    "\n",
    "\n",
    "            feh = sim.s['feh']\n",
    "            ofe = sim.s['ofe']\n",
    "            np.savez(file=name_observable_file, feh=feh, ofe=ofe)\n",
    "\n",
    "        else:\n",
    "            print('Not formed stars yet')"
   ]
  },
  {
   "cell_type": "code",
   "execution_count": 77,
   "metadata": {},
   "outputs": [
    {
     "data": {
      "application/vnd.jupyter.widget-view+json": {
       "model_id": "ce297ba0c5c540a5919eebafc8a08e9c",
       "version_major": 2,
       "version_minor": 0
      },
      "text/plain": [
       "  0%|          | 0/10 [00:00<?, ?it/s]"
      ]
     },
     "metadata": {},
     "output_type": "display_data"
    },
    {
     "name": "stderr",
     "output_type": "stream",
     "text": [
      "pynbody.halo : An error occurred while reading substructure file. Falling back to using the halo info.\n"
     ]
    },
    {
     "name": "stdout",
     "output_type": "stream",
     "text": [
      "/mnt/storage/_data/nihao/nihao_classic/g1.11e09/00464/g1.11e09.00464\n"
     ]
    },
    {
     "name": "stderr",
     "output_type": "stream",
     "text": [
      "pynbody.halo : An error occurred while reading substructure file. Falling back to using the halo info.\n"
     ]
    },
    {
     "name": "stdout",
     "output_type": "stream",
     "text": [
      "Not formed stars yet\n",
      "/mnt/storage/_data/nihao/nihao_classic/g1.11e09/00480/g1.11e09.00480\n"
     ]
    },
    {
     "name": "stderr",
     "output_type": "stream",
     "text": [
      "pynbody.halo : An error occurred while reading substructure file. Falling back to using the halo info.\n"
     ]
    },
    {
     "name": "stdout",
     "output_type": "stream",
     "text": [
      "/mnt/storage/_data/nihao/nihao_classic/g1.11e09/00496/g1.11e09.00496\n"
     ]
    },
    {
     "name": "stderr",
     "output_type": "stream",
     "text": [
      "pynbody.halo : An error occurred while reading substructure file. Falling back to using the halo info.\n"
     ]
    },
    {
     "name": "stdout",
     "output_type": "stream",
     "text": [
      "/mnt/storage/_data/nihao/nihao_classic/g1.11e09/00512/g1.11e09.00512\n"
     ]
    },
    {
     "name": "stderr",
     "output_type": "stream",
     "text": [
      "pynbody.halo : An error occurred while reading substructure file. Falling back to using the halo info.\n"
     ]
    },
    {
     "name": "stdout",
     "output_type": "stream",
     "text": [
      "Not formed stars yet\n",
      "/mnt/storage/_data/nihao/nihao_classic/g1.11e09/00528/g1.11e09.00528\n"
     ]
    },
    {
     "name": "stderr",
     "output_type": "stream",
     "text": [
      "pynbody.halo : An error occurred while reading substructure file. Falling back to using the halo info.\n"
     ]
    },
    {
     "name": "stdout",
     "output_type": "stream",
     "text": [
      "Not formed stars yet\n",
      "/mnt/storage/_data/nihao/nihao_classic/g1.11e09/00544/g1.11e09.00544\n"
     ]
    },
    {
     "name": "stderr",
     "output_type": "stream",
     "text": [
      "pynbody.halo : An error occurred while reading substructure file. Falling back to using the halo info.\n"
     ]
    },
    {
     "name": "stdout",
     "output_type": "stream",
     "text": [
      "/mnt/storage/_data/nihao/nihao_classic/g1.11e09/00560/g1.11e09.00560\n"
     ]
    },
    {
     "name": "stderr",
     "output_type": "stream",
     "text": [
      "pynbody.halo : An error occurred while reading substructure file. Falling back to using the halo info.\n"
     ]
    },
    {
     "name": "stdout",
     "output_type": "stream",
     "text": [
      "/mnt/storage/_data/nihao/nihao_classic/g1.11e09/00576/g1.11e09.00576\n"
     ]
    },
    {
     "name": "stderr",
     "output_type": "stream",
     "text": [
      "pynbody.halo : An error occurred while reading substructure file. Falling back to using the halo info.\n"
     ]
    },
    {
     "name": "stdout",
     "output_type": "stream",
     "text": [
      "/mnt/storage/_data/nihao/nihao_classic/g1.11e09/00592/g1.11e09.00592\n"
     ]
    },
    {
     "name": "stderr",
     "output_type": "stream",
     "text": [
      "pynbody.halo : An error occurred while reading substructure file. Falling back to using the halo info.\n"
     ]
    },
    {
     "name": "stdout",
     "output_type": "stream",
     "text": [
      "/mnt/storage/_data/nihao/nihao_classic/g1.11e09/00608/g1.11e09.00608\n"
     ]
    }
   ],
   "source": [
    "for path in tqdm(paths[220:230]):\n",
    "    print(path)\n",
    "    extract_parameter_array(path)"
   ]
  },
  {
   "cell_type": "code",
   "execution_count": 71,
   "metadata": {},
   "outputs": [
    {
     "name": "stderr",
     "output_type": "stream",
     "text": [
      "pynbody.halo : An error occurred while reading substructure file. Falling back to using the halo info.\n"
     ]
    },
    {
     "name": "stdout",
     "output_type": "stream",
     "text": [
      "error\n"
     ]
    }
   ],
   "source": [
    "sim = pb.load('/mnt/storage/_data/nihao/nihao_classic/g1.11e09/00480/g1.11e09.00480')\n",
    "sim.physical_units()\n",
    "h = sim.halos(write_fpos=False)\n",
    "try:\n",
    "    pb.analysis.angmom.faceon(h[1])\n",
    "except:\n",
    "    print('error')\n",
    "else:\n",
    "    print('no error')"
   ]
  },
  {
   "cell_type": "code",
   "execution_count": null,
   "metadata": {},
   "outputs": [],
   "source": []
  }
 ],
 "metadata": {
  "kernelspec": {
   "display_name": "torch",
   "language": "python",
   "name": "python3"
  },
  "language_info": {
   "codemirror_mode": {
    "name": "ipython",
    "version": 3
   },
   "file_extension": ".py",
   "mimetype": "text/x-python",
   "name": "python",
   "nbconvert_exporter": "python",
   "pygments_lexer": "ipython3",
   "version": "3.10.13"
  }
 },
 "nbformat": 4,
 "nbformat_minor": 2
}
