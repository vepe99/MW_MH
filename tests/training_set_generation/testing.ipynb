{
 "cells": [
  {
   "cell_type": "code",
   "execution_count": 3,
   "metadata": {},
   "outputs": [],
   "source": [
    "import numpy as np\n",
    "import pandas as pd\n",
    "import matplotlib.pyplot as plt\n",
    "import matplotlib.colors as colors\n",
    "import scipy.stats as stats\n",
    "\n",
    "import pynbody as pb\n",
    "\n",
    "import glob\n",
    "import os\n",
    "import re\n",
    "from tqdm.notebook import tqdm"
   ]
  },
  {
   "cell_type": "markdown",
   "metadata": {},
   "source": [
    "# Glob + Regex to get the paths"
   ]
  },
  {
   "cell_type": "code",
   "execution_count": 4,
   "metadata": {},
   "outputs": [],
   "source": [
    "all_paths = glob.glob('/mnt/storage/_data/nihao/nihao_classic/g*/0*/*.*.*')\n",
    "# Regular expression to match files that end with 5 numbers and don't have a dot at the end\n",
    "\n",
    "regex = r'^.*\\d{5}$' #all the snapshots\n",
    "\n",
    "\n",
    "# Filter the list of files\n",
    "paths = [path for path in all_paths if re.match(regex, path)]\n"
   ]
  },
  {
   "cell_type": "markdown",
   "metadata": {},
   "source": [
    "# Pynbody extraction "
   ]
  },
  {
   "cell_type": "code",
   "execution_count": 5,
   "metadata": {},
   "outputs": [],
   "source": [
    "def extract_parameter_dictionary(path='str'):\n",
    "    \"\"\"\n",
    "    Extracts the parameters and the observable of the simulation snapshot from its path. Two dictionaries are returned, one with the parameters and another with the observables.\n",
    "    The parameters that are extracted are: star_mass, gas_mass, dm_mass, infall_time, redshift, a, chemical_mean and chemical_std.\n",
    "    The observables that are extracted are: [Fe/H], [O/Fe].\n",
    "\n",
    "\n",
    "    Parameters\n",
    "    ----------\n",
    "    path : str \n",
    "        Path to the simulation snapshot\n",
    "    \n",
    "    Returns\n",
    "    -------\n",
    "    parameters : dict\n",
    "        parameters['star_mass'] : float\n",
    "            Total mass of the formed stars in the snapshot\n",
    "        parameters['gas_mass'] : float\n",
    "            Total mass of the gas in the snapshot\n",
    "        parameters['dm_mass'] : float\n",
    "            Total mass of the dark matter in the snapshot\n",
    "        parameters['infall_time'] : float\n",
    "            Time at which the snapshot was taken in Gyr\n",
    "        parameters['redshift'] : float\n",
    "            Redshift at which the snapshot was taken\n",
    "        parameters['a'] : float\n",
    "            Scale factor at which the snapshot was taken\n",
    "        parameters['chemical_mean'] : np.array\n",
    "            Array with the mean of metals, FeMassFrac and OxMassFrac in the snapshot\n",
    "        parameters['chemical_std'] : np.array\n",
    "            Array with the standard deviation of metals, FeMassFrac and OxMassFrac in the snapshot\n",
    "    observables : dict\n",
    "        observables['feh'] : np.array\n",
    "            Array with the [Fe/H] of the formed stars in the snapshot\n",
    "        observables['ofe'] : np.array\n",
    "            Array with the [O/Fe] of the formed stars in the snapshot\n",
    "    \"\"\"\n",
    "    sim = pb.load(path)\n",
    "    sim.physical_units()\n",
    "    h = sim.halos(write_fpos=False)\n",
    "    pb.analysis.angmom.faceon(h[1])\n",
    "    if len(sim.s['mass']) > 0:\n",
    "        parameters = {'star_mass': sim.s['mass'].sum(),\n",
    "                'gas_mass': sim.g['mass'].sum(),\n",
    "                'dm_mass': sim.dm['mass'].sum(),\n",
    "                'infall_time': sim.properties['time'].in_units('Gyr'),\n",
    "                'redshift': sim.properties['z'],\n",
    "                'a':sim.properties['a'], \n",
    "                'chemical_mean':np.array([sim.s['metals'].mean(), sim.s['FeMassFrac'].mean(), sim.s['OxMassFrac'].mean()]),\n",
    "                'chemical_std':np.array([sim.s['metals'].std(), sim.s['FeMassFrac'].std(), sim.s['OxMassFrac'].std()])}\n",
    "        feh = sim.s['feh']\n",
    "        ofe = sim.s['ofe']\n",
    "        observables = {'feh': feh,\n",
    "                     'ofe': ofe}\n",
    "        return parameters, observables\n",
    "    else:\n",
    "        print('Not formed stars yet')"
   ]
  },
  {
   "cell_type": "code",
   "execution_count": 7,
   "metadata": {},
   "outputs": [
    {
     "name": "stderr",
     "output_type": "stream",
     "text": [
      "pynbody.halo : An error occurred while reading substructure file. Falling back to using the halo info.\n"
     ]
    },
    {
     "data": {
      "image/png": "[encoded data removed]",
      "text/plain": [
       "<Figure size 640x480 with 2 Axes>"
      ]
     },
     "metadata": {},
     "output_type": "display_data"
    }
   ],
   "source": [
    "params, observable   = extract_parameter_dictionary(paths[191])\n",
    "\n",
    "fig = plt.figure()\n",
    "ax = fig.add_subplot(111)\n",
    "cax = ax.hist2d(observable['feh'], observable['ofe'], bins=(2000, 2000), norm=colors.LogNorm());\n",
    "fig.colorbar(cax[3], ax=ax)\n",
    "ax.set_xlabel('[Fe/H]')\n",
    "ax.set_ylabel('[O/Fe]')\n",
    "ax.set_xlim(-3.5, 0.5) \n",
    "ax.set_ylim(-1, 1.0);"
   ]
  },
  {
   "cell_type": "code",
   "execution_count": 9,
   "metadata": {},
   "outputs": [],
   "source": [
    "def extract_parameter_array(path='str', path_parameters='str', path_observables='str') -> None:\n",
    "    \"\"\"\n",
    "    Extract the parameters and observables from the path. Checks all the possible errors and if one is found it is saved as an 'error_file'.  \n",
    "    If no stars were formed in the snapshot, the function dosen't save any file.\n",
    "    Two .npz files are returned, one with the parameters and another with the observables.\n",
    "    In order to load the parameters values use the common way of accessing numpy array in .npz file, for example: np.load('file.npz')['star_mass'].\n",
    "    The parameters that are extracted are: star_mass, gas_mass, dm_mass, infall_time, redshift, a, chemical_mean and chemical_std.\n",
    "    The observables that are extracted are: [Fe/H], [O/Fe], refered to as 'feh' and 'ofe'.\n",
    "\n",
    "    Parameters\n",
    "    ----------\n",
    "    path : str \n",
    "        Path to the simulation snapshot. The path should end with 'simulation_name.snapshot_number' and it is used to create the name of the .npz files.\n",
    "    path_parameters : str\n",
    "        Path to the folder where the parameters file will be saved\n",
    "    path_observables : str\n",
    "        Path to the folder where the observables file will be saved\n",
    "    \n",
    "    Returns\n",
    "    -------\n",
    "    parameters : .npz array\n",
    "        The file is save in the folder '/path_parametrs/name_file_parameters.npz' and contains the following parameters:\n",
    "    \n",
    "        parameters['star_mass'] : float\n",
    "            Total mass of the formed stars in the snapshot\n",
    "        parameters['gas_mass'] : float\n",
    "            Total mass of the gas in the snapshot\n",
    "        parameters['dm_mass'] : float\n",
    "            Total mass of the dark matter in the snapshot\n",
    "        parameters['infall_time'] : float\n",
    "            Time at which the snapshot was taken in Gyr\n",
    "        parameters['redshift'] : float\n",
    "            Redshift at which the snapshot was taken\n",
    "        parameters['a'] : float\n",
    "            Scale factor at which the snapshot was taken\n",
    "        parameters['chemical_mean'] : np.array\n",
    "            Array with the mean of metals, FeMassFrac and OxMassFrac in the snapshot\n",
    "        parameters['chemical_std'] : np.array\n",
    "            Array with the standard deviation of metals, FeMassFrac and OxMassFrac in the snapshot\n",
    "\n",
    "    observables : .npz array\n",
    "        The file is save in the folder '/path_observables/name_file_observables.npz' and contains the following parameters:\n",
    "\n",
    "        observables['feh'] : np.array\n",
    "            Array with the [Fe/H] of the formed stars in the snapshot\n",
    "        observables['ofe'] : np.array\n",
    "            Array with the [O/Fe] of the formed stars in the snapshot\n",
    "    \"\"\"\n",
    "    \n",
    "\n",
    "    #extract the name of the simulation+snapshot_number to create the name of the files to save\n",
    "    regex = r'[^/]+$'\n",
    "    name_file = re.search(regex, path).group()\n",
    "    \n",
    "    try:\n",
    "        #check if the file can be loaded\n",
    "        sim = pb.load(path)\n",
    "        sim.physical_units()\n",
    "    except:\n",
    "        np.savez(file=path_parameters + name_file + '_load_error.npz', emppty=np.array([0]))\n",
    "        np.savez(file=path_observables + name_file + '_load_error.npz', emppty=np.array([0]))\n",
    "    else:\n",
    "        try:\n",
    "            #check if the halos can be loaded\n",
    "            h = sim.halos(write_fpos=False)\n",
    "        except:\n",
    "            np.savez(file=path_parameters + name_file + '_halos_error.npz', emppty=np.array([0]))\n",
    "            np.savez(file=path_observables + name_file + '_halos_error.npz', emppty=np.array([0]))\n",
    "        else:\n",
    "            try:\n",
    "                #check if the frame of reference can be set such that the disk is face on\n",
    "                pb.analysis.angmom.faceon(h[1])\n",
    "            except:\n",
    "                np.savez(file=path_parameters + name_file + '_faceon_error.npz', emppty=np.array([0]))\n",
    "                np.savez(file=path_observables + name_file + '_faceon_error.npz', emppty=np.array([0]))\n",
    "            else:\n",
    "                #check if the simualtion has formed stars\n",
    "                if len(sim.s['mass']) > 0:\n",
    "                    \n",
    "                    name_parameter_file = path_parameters + name_file + '_parameters.npz'\n",
    "                    name_observable_file = path_observables + name_file + '_observables.npz'\n",
    "\n",
    "                    #PARAMETERS\n",
    "                    star_mass = sim.s['mass'].sum() #in Msol\n",
    "                    gas_mass = sim.g['mass'].sum()  #in Msol\n",
    "                    dm_mass = sim.dm['mass'].sum()  #in Msol\n",
    "                    infall_time = sim.properties['time'].in_units('Gyr')\n",
    "                    redshift = sim.properties['z']\n",
    "                    a = sim.properties['a']\n",
    "                    try: \n",
    "                        #check if the metals, Iron mass fraction and Oxygen mass fraction mean and std can be extracted\n",
    "                        chemical_mean = np.array([sim.s['metals'].mean(), sim.s['FeMassFrac'].mean(), sim.s['OxMassFrac'].mean()])\n",
    "                        chemical_std = np.array([sim.s['metals'].std(), sim.s['FeMassFrac'].std(), sim.s['OxMassFrac'].std()])\n",
    "                    except:\n",
    "                        np.savez(file=path_parameters + name_file + '_ZMassFracc_error.npz', emppty=np.array([0]))\n",
    "                        np.savez(file=path_observables + name_file + '_ZMassFracc_error.npz', emppty=np.array([0]))\n",
    "                    else:\n",
    "                        #OBSERVABLE\n",
    "                        try:\n",
    "                            #check if the [Fe/H] and [O/Fe] can be extracted\n",
    "                            feh = sim.s['feh']\n",
    "                            ofe = sim.s['ofe']\n",
    "                        except:\n",
    "                            np.savez(file=path_parameters + name_file + '_FeO_error.npz', emppty=np.array([0]))\n",
    "                            np.savez(file=path_observables + name_file + '_FeO_error.npz', emppty=np.array([0]))\n",
    "                        else:\n",
    "                            np.savez(file=name_parameter_file, star_mass=star_mass, gas_mass=gas_mass, dm_mass=dm_mass, infall_time=infall_time, redshift=redshift, a=a, chemical_mean=chemical_mean, chemical_std=chemical_std)\n",
    "                            np.savez(file=name_observable_file, feh=feh, ofe=ofe)\n",
    "\n",
    "                else:\n",
    "                    print('Not formed stars yet')"
   ]
  },
  {
   "cell_type": "code",
   "execution_count": 11,
   "metadata": {},
   "outputs": [
    {
     "data": {
      "application/vnd.jupyter.widget-view+json": {
       "model_id": "fa6660742ceb4df88e629554ef399191",
       "version_major": 2,
       "version_minor": 0
      },
      "text/plain": [
       "  0%|          | 0/2 [00:00<?, ?it/s]"
      ]
     },
     "metadata": {},
     "output_type": "display_data"
    },
    {
     "name": "stdout",
     "output_type": "stream",
     "text": [
      "/mnt/storage/_data/nihao/nihao_classic/g1.05e11/00016/g1.05e11.00016\n",
      "Not formed stars yet\n",
      "/mnt/storage/_data/nihao/nihao_classic/g1.05e11/00032/g1.05e11.00032\n"
     ]
    },
    {
     "name": "stderr",
     "output_type": "stream",
     "text": [
      "pynbody.halo : An error occurred while reading substructure file. Falling back to using the halo info.\n"
     ]
    }
   ],
   "source": [
    "for path in tqdm(paths[:2]):\n",
    "    print(path)\n",
    "    extract_parameter_array(path, path_parameters='../../data/parameters/', path_observables='../../data/observables/')"
   ]
  },
  {
   "cell_type": "markdown",
   "metadata": {},
   "source": [
    "# Load the parameters and observables"
   ]
  },
  {
   "cell_type": "code",
   "execution_count": 47,
   "metadata": {},
   "outputs": [
    {
     "data": {
      "image/png": "[encoded data removed]",
      "text/plain": [
       "<Figure size 640x480 with 2 Axes>"
      ]
     },
     "metadata": {},
     "output_type": "display_data"
    }
   ],
   "source": [
    "path_2parameters = sorted(os.listdir('../../data/parameters/'))\n",
    "path_2observables = sorted(os.listdir('../../data/observables/'))\n",
    "\n",
    "regex = r'^(?!.*error)'\n",
    "\n",
    "# Filter the lists of paths\n",
    "path_2parameters = [path for path in path_2parameters if re.search(regex, path)]\n",
    "path_2observables = [path for path in path_2observables if re.search(regex, path)]\n",
    "\n",
    "n = 189\n",
    "parameters = np.load('../../data/parameters/' + path_2parameters[n])\n",
    "observables = np.load('../../data/observables/' + path_2observables[n])\n",
    "fig = plt.figure()\n",
    "ax = fig.add_subplot(111)\n",
    "cax = ax.hist2d(observables['feh'], observables['ofe'], bins=(2000, 2000), norm=colors.LogNorm());\n",
    "fig.colorbar(cax[3], ax=ax)\n",
    "ax.set_xlabel('[Fe/H]')\n",
    "ax.set_ylabel('[O/Fe]')\n",
    "ax.set_xlim(-3.5, 0.5) \n",
    "ax.set_ylim(-1, 1.0);"
   ]
  },
  {
   "cell_type": "code",
   "execution_count": null,
   "metadata": {},
   "outputs": [],
   "source": []
  }
 ],
 "metadata": {
  "kernelspec": {
   "display_name": "torch",
   "language": "python",
   "name": "python3"
  },
  "language_info": {
   "codemirror_mode": {
    "name": "ipython",
    "version": 3
   },
   "file_extension": ".py",
   "mimetype": "text/x-python",
   "name": "python",
   "nbconvert_exporter": "python",
   "pygments_lexer": "ipython3",
   "version": "3.10.13"
  }
 },
 "nbformat": 4,
 "nbformat_minor": 2
}
